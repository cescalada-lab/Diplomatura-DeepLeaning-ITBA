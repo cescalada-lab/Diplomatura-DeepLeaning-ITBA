{
 "cells": [
  {
   "cell_type": "markdown",
   "id": "environmental-tuesday",
   "metadata": {},
   "source": [
    "# Importo librerias"
   ]
  },
  {
   "cell_type": "code",
   "execution_count": 1,
   "id": "trying-ridge",
   "metadata": {},
   "outputs": [],
   "source": [
    "%load_ext autoreload\n",
    "%autoreload 2\n",
    "\n",
    "\n",
    "import kaggle\n",
    "import numpy as np\n",
    "from matplotlib import pyplot as plt\n",
    "from sklearn.model_selection import train_test_split\n",
    "\n",
    "from keras.utils import to_categorical\n",
    "from keras.models import Sequential\n",
    "from keras.layers import Dense, Dropout, Activation, Flatten, BatchNormalization #.core\n",
    "\n",
    "from keras.callbacks import ModelCheckpoint \n",
    "from keras.callbacks import EarlyStopping\n",
    "from keras import regularizers\n",
    "from keras.optimizers import Adam\n",
    "from keras.models import Model"
   ]
  },
  {
   "cell_type": "markdown",
   "id": "resident-bonus",
   "metadata": {},
   "source": [
    "# Cargo Dataset"
   ]
  },
  {
   "cell_type": "code",
   "execution_count": 2,
   "id": "plain-digest",
   "metadata": {},
   "outputs": [],
   "source": [
    "folder = 'Cifar100/'\n",
    "\n",
    "#Para train & validación\n",
    "x = np.load(folder+'x_train.npy') \n",
    "y_coarse = np.load(folder+'y_train_coarse.npy')\n",
    "y_fine = np.load(folder+'y_train_fine.npy')\n",
    "\n",
    "#Para test\n",
    "x_test = np.load(folder+'x_test.npy') "
   ]
  },
  {
   "cell_type": "markdown",
   "id": "accepted-architect",
   "metadata": {},
   "source": [
    "# Hago Split de los Datos"
   ]
  },
  {
   "cell_type": "code",
   "execution_count": 3,
   "id": "unexpected-creek",
   "metadata": {},
   "outputs": [],
   "source": [
    "# Split Course\n",
    "x_train_coarse, x_val_coarse, y_train_coarse, y_val_coarse = train_test_split(x, y_coarse, test_size = 0.1, stratify=y_coarse)\n",
    "\n",
    "# Splitplit Fine\n",
    "x_train_fine, x_val_fine, y_train_fine, y_val_fine = train_test_split(x, y_fine, test_size = 0.1, stratify=y_fine)"
   ]
  },
  {
   "cell_type": "markdown",
   "id": "nominated-phenomenon",
   "metadata": {},
   "source": [
    "# Normalizo las X"
   ]
  },
  {
   "cell_type": "code",
   "execution_count": 4,
   "id": "special-sperm",
   "metadata": {},
   "outputs": [],
   "source": [
    "x_train_coarse = x_train_coarse/255\n",
    "x_train_coarse = x_train_coarse.astype('float32')\n",
    "\n",
    "x_val_coarse = x_val_coarse/255\n",
    "x_val_coarse = x_val_coarse.astype('float32')\n",
    "\n",
    "x_test = x_test/255\n",
    "x_test = x_test.astype('float32')\n",
    "\n",
    "x_train_fine = x_train_fine/255\n",
    "x_train_fine = x_train_fine.astype('float32')\n",
    "\n",
    "x_val_fine = x_val_fine/255\n",
    "x_val_fine = x_val_fine.astype('float32')"
   ]
  },
  {
   "cell_type": "markdown",
   "id": "separate-natural",
   "metadata": {},
   "source": [
    "# Normalizo las Y - One Hot Encoding"
   ]
  },
  {
   "cell_type": "code",
   "execution_count": 5,
   "id": "valued-yorkshire",
   "metadata": {},
   "outputs": [],
   "source": [
    "y_train_fine = y_train_fine.reshape(-1, 1)\n",
    "y_train_fine = to_categorical(y_train_fine)\n",
    "\n",
    "y_val_fine = y_val_fine.reshape(-1, 1)\n",
    "y_val_fine   = to_categorical(y_val_fine)\n",
    "\n",
    "y_train_coarse = y_train_coarse.reshape(-1, 1)\n",
    "y_train_coarse = to_categorical(y_train_coarse)\n",
    "\n",
    "y_val_coarse = y_val_coarse.reshape(-1, 1)\n",
    "y_val_coarse = to_categorical(y_val_coarse)"
   ]
  },
  {
   "cell_type": "markdown",
   "id": "unlike-waste",
   "metadata": {},
   "source": [
    "# Data Augmentation"
   ]
  },
  {
   "cell_type": "code",
   "execution_count": 6,
   "id": "adequate-relay",
   "metadata": {},
   "outputs": [],
   "source": [
    "# data augmentation para Coarse\n",
    "x_train_coarse = np.concatenate([x_train_coarse , x_train_coarse[:,::-1]])\n",
    "y_train_coarse = np.concatenate([y_train_coarse, y_train_coarse])\n",
    "\n",
    "# data augmentation para fine\n",
    "x_train_fine = np.concatenate([x_train_fine , x_train_fine[:,::-1]])\n",
    "y_train_fine = np.concatenate([y_train_fine, y_train_fine])"
   ]
  },
  {
   "cell_type": "markdown",
   "id": "critical-candy",
   "metadata": {},
   "source": [
    "# Armo el modelo"
   ]
  },
  {
   "cell_type": "code",
   "execution_count": 7,
   "id": "surrounded-spoke",
   "metadata": {},
   "outputs": [
    {
     "name": "stdout",
     "output_type": "stream",
     "text": [
      "Model: \"sequential\"\n",
      "_________________________________________________________________\n",
      "Layer (type)                 Output Shape              Param #   \n",
      "=================================================================\n",
      "flatten (Flatten)            (None, 3072)              0         \n",
      "_________________________________________________________________\n",
      "capa1 (Dense)                (None, 100)               307300    \n",
      "_________________________________________________________________\n",
      "dropout (Dropout)            (None, 100)               0         \n",
      "_________________________________________________________________\n",
      "activation (Activation)      (None, 100)               0         \n",
      "_________________________________________________________________\n",
      "capa2 (Dense)                (None, 50)                5050      \n",
      "_________________________________________________________________\n",
      "activation_1 (Activation)    (None, 50)                0         \n",
      "_________________________________________________________________\n",
      "Salida (Dense)               (None, 100)               5100      \n",
      "_________________________________________________________________\n",
      "activation_2 (Activation)    (None, 100)               0         \n",
      "=================================================================\n",
      "Total params: 317,450\n",
      "Trainable params: 317,450\n",
      "Non-trainable params: 0\n",
      "_________________________________________________________________\n"
     ]
    }
   ],
   "source": [
    "output_size = np.max(y_fine) + 1 \n",
    "input_shape = x_train_fine.shape[1:]\n",
    "\n",
    "model = Sequential()\n",
    "l2_lambda = regularizers.l2(1e-3)\n",
    "model.add(Flatten(input_shape=input_shape))\n",
    "\n",
    "# model.add(Dense(32*32, name='capa1',activation='relu',kernel_regularizer = l2_lambda)) \n",
    "# model.add(Dense(32*32/2, name='capa2', activation='relu',kernel_regularizer = l2_lambda))\n",
    "# model.add(Dense(32*32/4, name='capa3', activation='relu',kernel_regularizer = l2_lambda))\n",
    "\n",
    "model.add(Dense(100, name='capa1',kernel_regularizer = l2_lambda)) \n",
    "# model.add(BatchNormalization())\n",
    "model.add(Dropout(0.2))\n",
    "model.add(Activation(\"relu\"))\n",
    "\n",
    "\n",
    "model.add(Dense(50, name='capa2',kernel_regularizer = l2_lambda))\n",
    "model.add(Activation(\"relu\"))\n",
    "# model.add(BatchNormalization())\n",
    "\n",
    "model.add(Dense(output_size, name='Salida'))\n",
    "model.add(Activation('softmax'))\n",
    "\n",
    "model.summary()\n"
   ]
  },
  {
   "cell_type": "code",
   "execution_count": 8,
   "id": "known-harvey",
   "metadata": {},
   "outputs": [
    {
     "name": "stdout",
     "output_type": "stream",
     "text": [
      "Epoch 1/30\n",
      "1407/1407 [==============================] - 8s 5ms/step - loss: 4.5205 - accuracy: 0.0275 - val_loss: 4.2319 - val_accuracy: 0.0500\n",
      "\n",
      "Epoch 00001: val_accuracy improved from -inf to 0.05000, saving model to cifar_100.hdf5\n",
      "Epoch 2/30\n",
      "1407/1407 [==============================] - 7s 5ms/step - loss: 4.2465 - accuracy: 0.0505 - val_loss: 4.0945 - val_accuracy: 0.0814\n",
      "\n",
      "Epoch 00002: val_accuracy improved from 0.05000 to 0.08140, saving model to cifar_100.hdf5\n",
      "Epoch 3/30\n",
      "1407/1407 [==============================] - 7s 5ms/step - loss: 4.1854 - accuracy: 0.0599 - val_loss: 4.0527 - val_accuracy: 0.0858\n",
      "\n",
      "Epoch 00003: val_accuracy improved from 0.08140 to 0.08580, saving model to cifar_100.hdf5\n",
      "Epoch 4/30\n",
      "1407/1407 [==============================] - 7s 5ms/step - loss: 4.1638 - accuracy: 0.0635 - val_loss: 4.1123 - val_accuracy: 0.0716\n",
      "\n",
      "Epoch 00004: val_accuracy did not improve from 0.08580\n",
      "Epoch 5/30\n",
      "1407/1407 [==============================] - 7s 5ms/step - loss: 4.1466 - accuracy: 0.0646 - val_loss: 4.1451 - val_accuracy: 0.0734\n",
      "\n",
      "Epoch 00005: val_accuracy did not improve from 0.08580\n",
      "Epoch 6/30\n",
      "1407/1407 [==============================] - 7s 5ms/step - loss: 4.1264 - accuracy: 0.0686 - val_loss: 4.0563 - val_accuracy: 0.0832\n",
      "\n",
      "Epoch 00006: val_accuracy did not improve from 0.08580\n",
      "Epoch 7/30\n",
      "1407/1407 [==============================] - 7s 5ms/step - loss: 4.1219 - accuracy: 0.0711 - val_loss: 4.0542 - val_accuracy: 0.0838\n",
      "\n",
      "Epoch 00007: val_accuracy did not improve from 0.08580\n",
      "Epoch 8/30\n",
      "1407/1407 [==============================] - 7s 5ms/step - loss: 4.1140 - accuracy: 0.0711 - val_loss: 4.0018 - val_accuracy: 0.0878\n",
      "\n",
      "Epoch 00008: val_accuracy improved from 0.08580 to 0.08780, saving model to cifar_100.hdf5\n",
      "Epoch 9/30\n",
      "1407/1407 [==============================] - 7s 5ms/step - loss: 4.0946 - accuracy: 0.0743 - val_loss: 4.0718 - val_accuracy: 0.0800\n",
      "\n",
      "Epoch 00009: val_accuracy did not improve from 0.08780\n",
      "Epoch 10/30\n",
      "1407/1407 [==============================] - 7s 5ms/step - loss: 4.1046 - accuracy: 0.0741 - val_loss: 3.9752 - val_accuracy: 0.0954\n",
      "\n",
      "Epoch 00010: val_accuracy improved from 0.08780 to 0.09540, saving model to cifar_100.hdf5\n",
      "Epoch 11/30\n",
      "1407/1407 [==============================] - 7s 5ms/step - loss: 4.0911 - accuracy: 0.0750 - val_loss: 3.9524 - val_accuracy: 0.0994\n",
      "\n",
      "Epoch 00011: val_accuracy improved from 0.09540 to 0.09940, saving model to cifar_100.hdf5\n",
      "Epoch 12/30\n",
      "1407/1407 [==============================] - 7s 5ms/step - loss: 4.0880 - accuracy: 0.0770 - val_loss: 4.0425 - val_accuracy: 0.0836\n",
      "\n",
      "Epoch 00012: val_accuracy did not improve from 0.09940\n",
      "Epoch 13/30\n",
      "1407/1407 [==============================] - 7s 5ms/step - loss: 4.0958 - accuracy: 0.0755 - val_loss: 4.1703 - val_accuracy: 0.0638\n",
      "\n",
      "Epoch 00013: val_accuracy did not improve from 0.09940\n",
      "Epoch 14/30\n",
      "1407/1407 [==============================] - 7s 5ms/step - loss: 4.0791 - accuracy: 0.0779 - val_loss: 4.0150 - val_accuracy: 0.0842\n",
      "\n",
      "Epoch 00014: val_accuracy did not improve from 0.09940\n",
      "Epoch 15/30\n",
      "1407/1407 [==============================] - 7s 5ms/step - loss: 4.0857 - accuracy: 0.0773 - val_loss: 4.0242 - val_accuracy: 0.0806: 0s - loss: 4.0858 - accu\n",
      "\n",
      "Epoch 00015: val_accuracy did not improve from 0.09940\n",
      "Epoch 16/30\n",
      "1407/1407 [==============================] - 6s 5ms/step - loss: 4.0716 - accuracy: 0.0803 - val_loss: 4.0421 - val_accuracy: 0.0802\n",
      "\n",
      "Epoch 00016: val_accuracy did not improve from 0.09940\n",
      "Epoch 17/30\n",
      "1407/1407 [==============================] - 7s 5ms/step - loss: 4.0656 - accuracy: 0.0787 - val_loss: 4.1000 - val_accuracy: 0.0698\n",
      "\n",
      "Epoch 00017: val_accuracy did not improve from 0.09940\n",
      "Restoring model weights from the end of the best epoch.\n",
      "Epoch 00017: early stopping\n"
     ]
    }
   ],
   "source": [
    "lr = 0.002\n",
    "model.compile(optimizer=Adam(lr=lr), metrics=['accuracy'], loss ='categorical_crossentropy')\n",
    "\n",
    "checkpointer = ModelCheckpoint(filepath='cifar_100.hdf5', verbose=1, save_best_only=True, \n",
    "                             mode='max', monitor='val_accuracy')\n",
    "\n",
    "es = EarlyStopping(monitor='val_accuracy', verbose=1, patience=6, mode='max', \n",
    "                       restore_best_weights=True)\n",
    "\n",
    "history =  model.fit(x_train_fine, \n",
    "           y_train_fine,\n",
    "           validation_data = (x_val_fine, y_val_fine),\n",
    "           epochs=30, \n",
    "           batch_size=64, \n",
    "           verbose=1,                       \n",
    "           callbacks=[checkpointer,es])"
   ]
  },
  {
   "cell_type": "markdown",
   "id": "catholic-holmes",
   "metadata": {},
   "source": [
    "# Se muestra el mejor score guardado"
   ]
  },
  {
   "cell_type": "code",
   "execution_count": 9,
   "id": "middle-slave",
   "metadata": {},
   "outputs": [
    {
     "name": "stdout",
     "output_type": "stream",
     "text": [
      "Mi mejor Accuracy y Loss fue: 0.21080000698566437 3.521268844604492\n"
     ]
    }
   ],
   "source": [
    "model.load_weights('cifar_100.hdf5')\n",
    "\n",
    "loss, acc = model.evaluate(x_val_fine,y_val_fine, verbose=0)\n",
    "print(\"Mi mejor Accuracy y Loss fue:\",acc, loss)"
   ]
  },
  {
   "cell_type": "markdown",
   "id": "facial-thong",
   "metadata": {},
   "source": [
    "# Gráfico Loss & Accuracy"
   ]
  },
  {
   "cell_type": "code",
   "execution_count": 10,
   "id": "turned-belief",
   "metadata": {},
   "outputs": [
    {
     "name": "stdout",
     "output_type": "stream",
     "text": [
      "dict_keys(['loss', 'accuracy', 'val_loss', 'val_accuracy'])\n"
     ]
    },
    {
     "data": {
      "image/png": "[encoded data removed]",
      "text/plain": [
       "<Figure size 720x360 with 1 Axes>"
      ]
     },
     "metadata": {
      "needs_background": "light"
     },
     "output_type": "display_data"
    },
    {
     "data": {
      "image/png": "[encoded data removed]",
      "text/plain": [
       "<Figure size 720x360 with 1 Axes>"
      ]
     },
     "metadata": {
      "needs_background": "light"
     },
     "output_type": "display_data"
    }
   ],
   "source": [
    "print(history.history.keys())\n",
    "#  \"Accuracy\"\n",
    "plt.figure(figsize=(10, 5))\n",
    "plt.plot(history.history['accuracy'])\n",
    "plt.plot(history.history['val_accuracy'])\n",
    "plt.title('model accuracy')\n",
    "plt.ylabel('accuracy')\n",
    "plt.xlabel('epoch')\n",
    "plt.legend(['train', 'validation'], loc='upper left')\n",
    "plt.show()\n",
    "# \"Loss\"\n",
    "plt.figure(figsize=(10, 5))\n",
    "plt.plot(history.history['loss'])\n",
    "plt.plot(history.history['val_loss'])\n",
    "plt.title('model loss')\n",
    "plt.ylabel('loss')\n",
    "plt.xlabel('epoch')\n",
    "plt.legend(['train', 'validation'], loc='upper left')\n",
    "plt.show()"
   ]
  },
  {
   "cell_type": "markdown",
   "id": "first-benefit",
   "metadata": {},
   "source": [
    "# Armo CSV para hacer submit a Kaggle\n",
    "```diff\n",
    "- Cuidado al ejecutar estas líneas de código en adelante, necesita tener una cuenta en Kaggle y tener instalado API Kaggle\n",
    "```"
   ]
  },
  {
   "cell_type": "code",
   "execution_count": 11,
   "id": "matched-chapel",
   "metadata": {},
   "outputs": [
    {
     "name": "stdout",
     "output_type": "stream",
     "text": [
      "(10000, 100)\n",
      "[49 80 46 ... 96 42  0]\n"
     ]
    }
   ],
   "source": [
    "# Calculo probabilidades de cada clase para cada observación\n",
    "test_prediction = model.predict(x_test)\n",
    "print(test_prediction.shape)\n",
    "\n",
    "# Calculo clase\n",
    "test_labels = np.argmax(test_prediction, axis = 1)\n",
    "print(test_labels)\n",
    "\n",
    "import pandas as pd\n",
    "df = pd.DataFrame(data={\"label\": test_labels}).astype(int)\n",
    "df.to_csv(\"./submission_0.csv\", sep=',',index=True,  index_label='Id')\n"
   ]
  },
  {
   "cell_type": "code",
   "execution_count": 13,
   "id": "advisory-enemy",
   "metadata": {},
   "outputs": [
    {
     "name": "stdout",
     "output_type": "stream",
     "text": [
      "Successfully submitted to CIFAR100\n"
     ]
    },
    {
     "name": "stderr",
     "output_type": "stream",
     "text": [
      "\n",
      "  0%|          | 0.00/85.7k [00:00<?, ?B/s]\n",
      "  9%|9         | 8.00k/85.7k [00:00<00:01, 65.5kB/s]\n",
      "100%|##########| 85.7k/85.7k [00:03<00:00, 27.1kB/s]\n"
     ]
    },
    {
     "name": "stdout",
     "output_type": "stream",
     "text": [
      " teamId  teamName                submissionDate       score    \n",
      "-------  ----------------------  -------------------  -------  \n",
      "6264331  Sebastián Portela       2021-03-23 14:59:06  0.55479  \n",
      "7158476  Alejandro Chain         2021-07-31 23:22:44  0.30440  \n",
      "6852054  Gonzalo Pereyra Metnik  2021-05-24 06:46:37  0.30000  \n",
      "6915346  Eugenio Voss            2021-07-28 14:10:38  0.26379  \n",
      "6411923  Federico Avila          2021-03-14 22:39:55  0.24120  \n",
      "fileName              date                 description  status    publicScore  privateScore  \n",
      "--------------------  -------------------  -----------  --------  -----------  ------------  \n",
      "submission_0.csv      2021-09-05 11:19:41  Message      complete  0.24160      0.23800       \n",
      "submission_0.csv      2021-09-05 11:19:06  Message      complete  0.24160      0.23800       \n",
      "submission_0.csv      2021-09-05 07:50:07  Message      complete  0.21700      0.21980       \n",
      "submission_0.csv      2021-09-05 07:38:56  Message      complete  0.23640      0.23680       \n",
      "submission_0.csv      2021-09-05 07:28:33  Message      complete  0.24100      0.23760       \n",
      "submission_nb_tb.csv  2021-09-05 05:29:43  Message      complete  0.10760      0.11600       \n"
     ]
    }
   ],
   "source": [
    "!kaggle competitions submit -c cifar100-dl-itba-2020q2 -f submission_0.csv -m \"Message\"\n",
    "\n",
    "!kaggle competitions leaderboard cifar100-dl-itba-2020q2 --show\n",
    "\n",
    "!kaggle competitions submissions -c cifar100-dl-itba-2020q2"
   ]
  },
  {
   "cell_type": "code",
   "execution_count": null,
   "id": "cutting-still",
   "metadata": {},
   "outputs": [],
   "source": []
  },
  {
   "cell_type": "code",
   "execution_count": null,
   "id": "heavy-possibility",
   "metadata": {},
   "outputs": [],
   "source": []
  },
  {
   "cell_type": "code",
   "execution_count": null,
   "id": "desirable-activation",
   "metadata": {},
   "outputs": [],
   "source": []
  },
  {
   "cell_type": "code",
   "execution_count": null,
   "id": "normal-creature",
   "metadata": {},
   "outputs": [],
   "source": []
  },
  {
   "cell_type": "markdown",
   "id": "permanent-wagon",
   "metadata": {},
   "source": [
    "competencia: https://www.kaggle.com/c/cifar100-dl-itba-2020q2/leaderboard\n",
    "\n",
    "paper: https://www.cs.toronto.edu/~kriz/cifar.html"
   ]
  }
 ],
 "metadata": {
  "kernelspec": {
   "display_name": "Python 3",
   "language": "python",
   "name": "python3"
  },
  "language_info": {
   "codemirror_mode": {
    "name": "ipython",
    "version": 3
   },
   "file_extension": ".py",
   "mimetype": "text/x-python",
   "name": "python",
   "nbconvert_exporter": "python",
   "pygments_lexer": "ipython3",
   "version": "3.8.8"
  }
 },
 "nbformat": 4,
 "nbformat_minor": 5
}
