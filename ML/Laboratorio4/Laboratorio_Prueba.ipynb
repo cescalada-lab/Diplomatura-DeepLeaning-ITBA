{
 "cells": [
  {
   "cell_type": "code",
   "execution_count": 1,
   "id": "muslim-recruitment",
   "metadata": {},
   "outputs": [],
   "source": [
    "%load_ext autoreload\n",
    "%autoreload 2"
   ]
  },
  {
   "cell_type": "code",
   "execution_count": 2,
   "id": "fallen-vocabulary",
   "metadata": {},
   "outputs": [],
   "source": [
    "import numpy as np"
   ]
  },
  {
   "cell_type": "markdown",
   "id": "endless-tomorrow",
   "metadata": {},
   "source": [
    "# Definición de la RED\n",
    "Dados los pesos y la estructura de una red neuronal con una softmax a la salida y un MSE como Loss calcular todo lo que se pide a continuación (No es comun usar MSE con la softmax pero a fines didácticos simplifica. Queda como ejercicio adicional resolver el mismo ejercicio pero con una categorical crossentropy a la saluda)\n",
    "\n",
    "Las funciones de activación de las capas A1 y A2 son sigmoideas (Queda como ejercicio también probar con otras funciones de activación)"
   ]
  },
  {
   "cell_type": "markdown",
   "id": "wooden-offset",
   "metadata": {},
   "source": [
    "![red.png](red.png)"
   ]
  },
  {
   "cell_type": "raw",
   "id": "native-execution",
   "metadata": {},
   "source": [
    "Model: \"sequential\"\n",
    "_________________________________________________________________\n",
    "Layer (type)                 Output Shape              Param #   \n",
    "=================================================================\n",
    "D1 (Dense)                   (None, 3)                 9         \n",
    "_________________________________________________________________\n",
    "A1 (Activation)              (None, 3)                 0         \n",
    "_________________________________________________________________\n",
    "D2 (Dense)                   (None, 2)                 8         \n",
    "_________________________________________________________________\n",
    "A2 (Activation)              (None, 2)                 0         \n",
    "_________________________________________________________________\n",
    "D3 (Dense)                   (None, 3)                 9         \n",
    "_________________________________________________________________\n",
    "P_est (Activation)           (None, 3)                 0         \n",
    "=================================================================\n",
    "Total params: 26\n",
    "Trainable params: 26\n",
    "Non-trainable params: 0\n",
    "_________________________________________________________________"
   ]
  },
  {
   "cell_type": "markdown",
   "id": "roman-usage",
   "metadata": {},
   "source": [
    "# Pesos de la red"
   ]
  },
  {
   "cell_type": "code",
   "execution_count": 3,
   "id": "placed-exception",
   "metadata": {},
   "outputs": [
    {
     "name": "stdout",
     "output_type": "stream",
     "text": [
      "Capa Densa 1 ws: 2x3\n",
      "[[0.10820953 0.3432914  0.1744045 ]\n",
      " [0.05457611 0.54989725 0.34384015]]\n",
      "\n",
      "Capa Densa 1 biases:\n",
      "[-0.67943245 -0.00294854  0.15257952]\n",
      "\n",
      "Capa Densa 2 - ws: 3x3\n",
      "[[-0.7706185  -0.17550795]\n",
      " [-0.10197585  0.45046437]\n",
      " [ 0.00585397  0.3024927 ]]\n",
      "\n",
      "Capa Densa 2 - biases\n",
      "[-0.10661452 -0.34508756]\n",
      "\n",
      "Capa Densa 3 - ws: 2x3\n",
      "[[-0.49749678 -0.40208894 -0.85052264]\n",
      " [ 1.0619878   0.07141189  0.17314   ]]\n",
      "\n",
      "Capa Densa 3 - biases\n",
      "[-0.29359275 -0.7259881   0.578059  ]\n",
      "\n"
     ]
    }
   ],
   "source": [
    "weights = np.load('weights_softmax_3_layers.npy', allow_pickle=True)\n",
    "capas = ['Capa Densa 1 ws: 2x3', 'Capa Densa 1 biases:', 'Capa Densa 2 - ws: 3x3', 'Capa Densa 2 - biases', 'Capa Densa 3 - ws: 2x3', 'Capa Densa 3 - biases']\n",
    "for i, layer in enumerate(weights):\n",
    "    print(capas[i])\n",
    "    print(layer)\n",
    "    print()"
   ]
  },
  {
   "cell_type": "markdown",
   "id": "honest-advice",
   "metadata": {},
   "source": [
    "# Vector de entrada de ejemplo"
   ]
  },
  {
   "cell_type": "code",
   "execution_count": 4,
   "id": "stable-batman",
   "metadata": {},
   "outputs": [
    {
     "name": "stdout",
     "output_type": "stream",
     "text": [
      "(1, 2)\n"
     ]
    }
   ],
   "source": [
    "X = np.array([[3.4, 2.1]])\n",
    "print(X.shape)"
   ]
  },
  {
   "cell_type": "markdown",
   "id": "swiss-ridge",
   "metadata": {},
   "source": [
    "# Implementación D_1"
   ]
  },
  {
   "cell_type": "code",
   "execution_count": 5,
   "id": "necessary-crystal",
   "metadata": {},
   "outputs": [
    {
     "name": "stdout",
     "output_type": "stream",
     "text": [
      "(1, 3)\n",
      "[[-0.19691022  2.31902646  1.46761914]]\n"
     ]
    }
   ],
   "source": [
    "D1_out =  np.dot(X,weights[0])+weights[1]\n",
    "print(D1_out.shape)\n",
    "print(D1_out)"
   ]
  },
  {
   "cell_type": "markdown",
   "id": "hungry-european",
   "metadata": {},
   "source": [
    "# Implementación A_1"
   ]
  },
  {
   "cell_type": "code",
   "execution_count": 6,
   "id": "confident-earth",
   "metadata": {},
   "outputs": [
    {
     "name": "stdout",
     "output_type": "stream",
     "text": [
      "[[0.45093089 0.91044059 0.81269524]]\n"
     ]
    }
   ],
   "source": [
    "A1_out = 1/(1+(np.exp((-D1_out))))\n",
    "print(A1_out)"
   ]
  },
  {
   "cell_type": "markdown",
   "id": "noted-notification",
   "metadata": {},
   "source": [
    "# Implementación D_2"
   ]
  },
  {
   "cell_type": "code",
   "execution_count": 7,
   "id": "regional-residence",
   "metadata": {},
   "outputs": [
    {
     "name": "stdout",
     "output_type": "stream",
     "text": [
      "[[-0.54219567  0.23172592]]\n"
     ]
    }
   ],
   "source": [
    "D2_out = np.dot(A1_out, weights[2]) + weights[3]\n",
    "print(D2_out)"
   ]
  },
  {
   "cell_type": "markdown",
   "id": "previous-notice",
   "metadata": {},
   "source": [
    "# Implementación A_2"
   ]
  },
  {
   "cell_type": "code",
   "execution_count": 8,
   "id": "conservative-diana",
   "metadata": {},
   "outputs": [
    {
     "name": "stdout",
     "output_type": "stream",
     "text": [
      "[[0.36767696 0.55767363]]\n"
     ]
    }
   ],
   "source": [
    "A2_out = 1/(1+(np.exp((-D2_out))))\n",
    "print(A2_out)"
   ]
  },
  {
   "cell_type": "markdown",
   "id": "essential-europe",
   "metadata": {},
   "source": [
    "# Implementación D_3"
   ]
  },
  {
   "cell_type": "code",
   "execution_count": 9,
   "id": "unusual-multimedia",
   "metadata": {},
   "outputs": [
    {
     "name": "stdout",
     "output_type": "stream",
     "text": [
      "[[ 0.11573172 -0.8340024   0.36189705]]\n"
     ]
    }
   ],
   "source": [
    "D3_out = np.dot(A2_out, weights[4]) + weights[5]\n",
    "print(D3_out)"
   ]
  },
  {
   "cell_type": "markdown",
   "id": "adjustable-fashion",
   "metadata": {},
   "source": [
    "# Implementación SoftMax"
   ]
  },
  {
   "cell_type": "code",
   "execution_count": 10,
   "id": "recreational-boulder",
   "metadata": {},
   "outputs": [
    {
     "name": "stdout",
     "output_type": "stream",
     "text": [
      "[[0.37510012 0.14510518 0.4797947 ]]\n"
     ]
    }
   ],
   "source": [
    "a,b,c = np.split(D3_out[0], 3)\n",
    "P_1= np.exp(a) / (np.exp(a) + np.exp(b) + np.exp(c))\n",
    "P_2= np.exp(b) / (np.exp(a) + np.exp(b) + np.exp(c))\n",
    "P_3= np.exp(c) / (np.exp(a) + np.exp(b) + np.exp(c))\n",
    "P_est= np.array([P_1,P_2,P_3]).T\n",
    "\n",
    "print(P_est)"
   ]
  },
  {
   "cell_type": "markdown",
   "id": "damaged-campaign",
   "metadata": {},
   "source": [
    "# Vector de salida"
   ]
  },
  {
   "cell_type": "code",
   "execution_count": 11,
   "id": "polish-calcium",
   "metadata": {},
   "outputs": [
    {
     "name": "stdout",
     "output_type": "stream",
     "text": [
      "[[1 0 0]]\n"
     ]
    }
   ],
   "source": [
    "P_true = np.array([[1, 0, 0]])\n",
    "print(P_true)"
   ]
  },
  {
   "cell_type": "markdown",
   "id": "clinical-merchant",
   "metadata": {},
   "source": [
    "# Implementación MSE"
   ]
  },
  {
   "cell_type": "code",
   "execution_count": 12,
   "id": "amino-greensboro",
   "metadata": {},
   "outputs": [
    {
     "name": "stdout",
     "output_type": "stream",
     "text": [
      "0.2139194440951749\n"
     ]
    }
   ],
   "source": [
    "MSE=(((P_est[0][0]-P_true[0][0])**2)+\n",
    " ((P_est[0][1]-P_true[0][1])**2)+\n",
    " ((P_est[0][2]-P_true[0][2])**2))/3\n",
    "\n",
    "print(MSE)"
   ]
  },
  {
   "cell_type": "code",
   "execution_count": 13,
   "id": "prompt-gothic",
   "metadata": {},
   "outputs": [
    {
     "data": {
      "text/plain": [
       "0.21391944409517488"
      ]
     },
     "execution_count": 13,
     "metadata": {},
     "output_type": "execute_result"
    }
   ],
   "source": [
    "sum((sum((P_est-P_true)**2))/3)   # otro metodo"
   ]
  },
  {
   "cell_type": "markdown",
   "id": "flexible-navigation",
   "metadata": {},
   "source": [
    "# Implementar Gradiente MSE"
   ]
  },
  {
   "cell_type": "code",
   "execution_count": 14,
   "id": "removed-ferry",
   "metadata": {},
   "outputs": [
    {
     "name": "stdout",
     "output_type": "stream",
     "text": [
      "[-0.41659992  0.09673679  0.31986314]\n"
     ]
    }
   ],
   "source": [
    "MSE_grad=(sum(((P_est-P_true))*P_est.T)*2)/3\n",
    "print(MSE_grad)"
   ]
  },
  {
   "cell_type": "markdown",
   "id": "incident-reducing",
   "metadata": {},
   "source": [
    "# Implementar SoftMax Jacobiano"
   ]
  },
  {
   "cell_type": "code",
   "execution_count": 15,
   "id": "roman-portland",
   "metadata": {},
   "outputs": [
    {
     "name": "stdout",
     "output_type": "stream",
     "text": [
      "[[0.37510012 0.14510518 0.4797947 ]]\n",
      "\n",
      "[[0.37510012 0.         0.        ]\n",
      " [0.         0.14510518 0.        ]\n",
      " [0.         0.         0.4797947 ]]\n"
     ]
    }
   ],
   "source": [
    "# Primera matriz\n",
    "softmax_out = P_est\n",
    "print(softmax_out)\n",
    "print()\n",
    "print(np.diag(softmax_out.reshape(-1)))"
   ]
  },
  {
   "cell_type": "code",
   "execution_count": 16,
   "id": "heavy-carbon",
   "metadata": {},
   "outputs": [
    {
     "data": {
      "text/plain": [
       "array([[0.1407001 , 0.05442897, 0.17997105],\n",
       "       [0.05442897, 0.02105551, 0.0696207 ],\n",
       "       [0.17997105, 0.0696207 , 0.23020296]])"
      ]
     },
     "execution_count": 16,
     "metadata": {},
     "output_type": "execute_result"
    }
   ],
   "source": [
    "# Segunda matriz\n",
    "softmax_out.T.dot(softmax_out)"
   ]
  },
  {
   "cell_type": "code",
   "execution_count": 17,
   "id": "eastern-boring",
   "metadata": {},
   "outputs": [
    {
     "name": "stdout",
     "output_type": "stream",
     "text": [
      "[[ 0.23440002 -0.05442897 -0.17997105]\n",
      " [-0.05442897  0.12404967 -0.0696207 ]\n",
      " [-0.17997105 -0.0696207   0.24959175]]\n"
     ]
    }
   ],
   "source": [
    "softmax_jac = (np.diag(softmax_out.reshape(-1))) - softmax_out.T.dot(softmax_out)\n",
    "\n",
    "print(softmax_jac)"
   ]
  },
  {
   "cell_type": "markdown",
   "id": "abstract-inquiry",
   "metadata": {},
   "source": [
    "# Calcular el error propagado hasta la salida de D3"
   ]
  },
  {
   "cell_type": "code",
   "execution_count": 18,
   "id": "grateful-short",
   "metadata": {},
   "outputs": [
    {
     "name": "stdout",
     "output_type": "stream",
     "text": [
      "[-0.16048242  0.01240618  0.14807624]\n"
     ]
    },
    {
     "data": {
      "text/plain": [
       "(3,)"
      ]
     },
     "execution_count": 18,
     "metadata": {},
     "output_type": "execute_result"
    }
   ],
   "source": [
    "error_D3 = softmax_jac.dot(MSE_grad)\n",
    "print(error_D3)\n",
    "error_D3.shape"
   ]
  },
  {
   "cell_type": "markdown",
   "id": "valuable-rapid",
   "metadata": {},
   "source": [
    "# Calculo de error propagado a la salida de A2"
   ]
  },
  {
   "cell_type": "code",
   "execution_count": 19,
   "id": "deadly-wales",
   "metadata": {},
   "outputs": [
    {
     "name": "stdout",
     "output_type": "stream",
     "text": [
      "[-0.05109109 -0.14390649]\n"
     ]
    },
    {
     "data": {
      "text/plain": [
       "(2,)"
      ]
     },
     "execution_count": 19,
     "metadata": {},
     "output_type": "execute_result"
    }
   ],
   "source": [
    "error_A2 = weights[4].dot(error_D3)\n",
    "print(error_A2)\n",
    "error_A2.shape"
   ]
  },
  {
   "cell_type": "markdown",
   "id": "proof-wallpaper",
   "metadata": {},
   "source": [
    "# Jacobiano de sigmoidea"
   ]
  },
  {
   "cell_type": "code",
   "execution_count": 20,
   "id": "executive-worthy",
   "metadata": {},
   "outputs": [
    {
     "name": "stdout",
     "output_type": "stream",
     "text": [
      "[[0.23249061 0.        ]\n",
      " [0.         0.24667375]]\n"
     ]
    }
   ],
   "source": [
    "sigmoid = 1/(1+(np.exp((-D2_out))))\n",
    "sigmoid_jac = sigmoid*(1-sigmoid)\n",
    "sigmoid_jac = np.diag(sigmoid_jac.reshape(-1))\n",
    "print(sigmoid_jac)"
   ]
  },
  {
   "cell_type": "markdown",
   "id": "married-dictionary",
   "metadata": {},
   "source": [
    "# Calculo de error propagado a la salida de D2"
   ]
  },
  {
   "cell_type": "code",
   "execution_count": 21,
   "id": "young-twist",
   "metadata": {},
   "outputs": [
    {
     "name": "stdout",
     "output_type": "stream",
     "text": [
      "[-0.0118782  -0.03549795]\n"
     ]
    }
   ],
   "source": [
    "error_D2 = sigmoid_jac.dot(error_A2)\n",
    "print(error_D2)"
   ]
  },
  {
   "cell_type": "markdown",
   "id": "baking-nebraska",
   "metadata": {},
   "source": [
    "# Calculo del error propagado a la salida de D1"
   ]
  },
  {
   "cell_type": "code",
   "execution_count": 22,
   "id": "boxed-formula",
   "metadata": {},
   "outputs": [],
   "source": [
    "error_A1 = weights[2].dot(error_D2)"
   ]
  },
  {
   "cell_type": "code",
   "execution_count": 23,
   "id": "unnecessary-float",
   "metadata": {},
   "outputs": [],
   "source": [
    "sigmoid = 1/(1+(np.exp((-D1_out))))\n",
    "sigmoid_jac = sigmoid*(1-sigmoid)\n",
    "sigmoid_jac = np.diag(sigmoid_jac.reshape(-1))"
   ]
  },
  {
   "cell_type": "code",
   "execution_count": 24,
   "id": "natural-emerald",
   "metadata": {},
   "outputs": [
    {
     "name": "stdout",
     "output_type": "stream",
     "text": [
      "[ 0.00380889 -0.00120508 -0.00164512]\n"
     ]
    }
   ],
   "source": [
    "error_D1 = sigmoid_jac.dot(error_A1)\n",
    "print(error_D1)"
   ]
  },
  {
   "cell_type": "markdown",
   "id": "forced-occurrence",
   "metadata": {},
   "source": [
    "# Calculo del gradiente de los pesos de D1, D2, D3"
   ]
  },
  {
   "cell_type": "code",
   "execution_count": 25,
   "id": "communist-wilderness",
   "metadata": {},
   "outputs": [
    {
     "name": "stdout",
     "output_type": "stream",
     "text": [
      "[[ 0.01295024 -0.00409727 -0.00559341]\n",
      " [ 0.00799867 -0.00253067 -0.00345476]]\n",
      "[ 0.00380889 -0.00120508 -0.00164512]\n"
     ]
    }
   ],
   "source": [
    "g_1_ws = error_D1*X.T\n",
    "print(g_1_ws)\n",
    "g_1_b = error_D1\n",
    "print(g_1_b)"
   ]
  },
  {
   "cell_type": "code",
   "execution_count": 26,
   "id": "stylish-employment",
   "metadata": {},
   "outputs": [
    {
     "name": "stdout",
     "output_type": "stream",
     "text": [
      "[[-0.00535625 -0.01600712]\n",
      " [-0.0108144  -0.03231878]\n",
      " [-0.00965336 -0.02884902]]\n",
      "[-0.0118782  -0.03549795]\n"
     ]
    }
   ],
   "source": [
    "g_2_ws = error_D2*A1_out.T\n",
    "print(g_2_ws)\n",
    "g_2_b = error_D2\n",
    "print(g_2_b)"
   ]
  },
  {
   "cell_type": "code",
   "execution_count": 27,
   "id": "addressed-darwin",
   "metadata": {},
   "outputs": [
    {
     "name": "stdout",
     "output_type": "stream",
     "text": [
      "[[-0.05900569  0.00456147  0.05444422]\n",
      " [-0.08949681  0.0069186   0.08257822]]\n",
      "[-0.16048242  0.01240618  0.14807624]\n"
     ]
    }
   ],
   "source": [
    "g_3_ws = error_D3*A2_out.T\n",
    "print(g_3_ws)\n",
    "g_3_b = error_D3\n",
    "print(g_3_b)"
   ]
  },
  {
   "cell_type": "raw",
   "id": "functioning-wilderness",
   "metadata": {},
   "source": [
    "# ddd\n",
    "# d\n",
    "# dddd\n",
    "# apreta ctrl + /"
   ]
  }
 ],
 "metadata": {
  "kernelspec": {
   "display_name": "Python 3",
   "language": "python",
   "name": "python3"
  },
  "language_info": {
   "codemirror_mode": {
    "name": "ipython",
    "version": 3
   },
   "file_extension": ".py",
   "mimetype": "text/x-python",
   "name": "python",
   "nbconvert_exporter": "python",
   "pygments_lexer": "ipython3",
   "version": "3.8.8"
  }
 },
 "nbformat": 4,
 "nbformat_minor": 5
}
