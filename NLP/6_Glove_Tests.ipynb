{
  "nbformat": 4,
  "nbformat_minor": 0,
  "metadata": {
    "colab": {
      "name": "6 glove_tests.ipynb",
      "provenance": [],
      "collapsed_sections": []
    },
    "kernelspec": {
      "name": "python3",
      "display_name": "Python 3"
    },
    "accelerator": "GPU"
  },
  "cells": [
    {
      "cell_type": "markdown",
      "source": [
        "# Importar Drive"
      ],
      "metadata": {
        "id": "k8BUYrFoz6nr"
      }
    },
    {
      "cell_type": "code",
      "metadata": {
        "id": "v-mvGMujSz8W",
        "colab": {
          "base_uri": "https://localhost:8080/"
        },
        "outputId": "27ce5acb-6cf6-4f15-f80d-c545dd53ba5b"
      },
      "source": [
        "from google.colab import drive\n",
        "drive.mount('/content/drive')"
      ],
      "execution_count": 2,
      "outputs": [
        {
          "output_type": "stream",
          "name": "stdout",
          "text": [
            "Mounted at /content/drive\n"
          ]
        }
      ]
    },
    {
      "cell_type": "markdown",
      "metadata": {
        "id": "O-pmzBsoTA92"
      },
      "source": [
        "Agregar este archivo a la carpeta de google drive clickeando en el link y clickeando el '+' arriba a la derecha\n",
        "\n",
        "https://drive.google.com/open?id=1jJ20oNZIysi-V-iORAE0eEZq4LhuWxUW"
      ]
    },
    {
      "cell_type": "code",
      "metadata": {
        "id": "kfTcbRdGVRj4"
      },
      "source": [
        "import codecs\n",
        "import numpy as np"
      ],
      "execution_count": 3,
      "outputs": []
    },
    {
      "cell_type": "code",
      "metadata": {
        "id": "JUUN3Z3BRO5_"
      },
      "source": [
        "# ! wget http://nlp.stanford.edu/data/glove.6B.zip"
      ],
      "execution_count": null,
      "outputs": []
    },
    {
      "cell_type": "code",
      "metadata": {
        "id": "2aoTi2n7RQtS"
      },
      "source": [
        "# ! unzip glove.6B.zip"
      ],
      "execution_count": null,
      "outputs": []
    },
    {
      "cell_type": "code",
      "metadata": {
        "id": "Z8AzLFXZUTCw"
      },
      "source": [
        "EMBEDDING_DIR = \"/content/drive/My Drive/DeepLearning/Laboratorios/NLP/\"\n",
        "# EMBEDDING_DIR = \"./\"\n"
      ],
      "execution_count": 4,
      "outputs": []
    },
    {
      "cell_type": "code",
      "metadata": {
        "id": "AsO8d8w6TxBh"
      },
      "source": [
        "def load_embeddings(file, embed_dim=100):\n",
        "  #load embeddings\n",
        "\n",
        "  print('loading word embeddings...')\n",
        "  embeddings_index = {}\n",
        "  f = codecs.open(EMBEDDING_DIR+'glove.6B.100d.txt', encoding='utf-8')\n",
        "  for line in f:\n",
        "      values = line.rstrip().rsplit(' ')\n",
        "      word = values[0]\n",
        "      coefs = np.asarray(values[1:], dtype='float32')\n",
        "      embeddings_index[word] = coefs\n",
        "  f.close()\n",
        "  print('found %s word vectors' % len(embeddings_index))\n",
        "  return embeddings_index"
      ],
      "execution_count": 5,
      "outputs": []
    },
    {
      "cell_type": "code",
      "metadata": {
        "id": "iG3clQ-EUPV5",
        "colab": {
          "base_uri": "https://localhost:8080/"
        },
        "outputId": "88fef637-3b7b-4888-8d1d-edd3bf38587d"
      },
      "source": [
        "# embeddings_index = load_embeddings(EMBEDDING_DIR+'glove.6B.300d.txt', embed_dim=300)\n",
        "embeddings_index = load_embeddings(EMBEDDING_DIR+'glove.6B.100d.txt')"
      ],
      "execution_count": 6,
      "outputs": [
        {
          "output_type": "stream",
          "name": "stdout",
          "text": [
            "loading word embeddings...\n",
            "found 400000 word vectors\n"
          ]
        }
      ]
    },
    {
      "cell_type": "code",
      "metadata": {
        "id": "Mk9GpdAgWhvl"
      },
      "source": [
        "# Armar matriz de embedigs de 400000x100\n",
        "matrix_word_vectors = np.array(list(embeddings_index.values())) # Se puede armar en una linea haciendo un cast a np.array y un .values del dict\n",
        "# Aramr lista con vocabilario\n",
        "vocab_list = list(embeddings_index.keys()) # Se puede armar con una linea .keys del dict"
      ],
      "execution_count": 7,
      "outputs": []
    },
    {
      "cell_type": "code",
      "metadata": {
        "id": "cHpq6u4wj_mf",
        "colab": {
          "base_uri": "https://localhost:8080/"
        },
        "outputId": "abcc0fa4-97a1-4b0c-9141-20047c237645"
      },
      "source": [
        "matrix_word_vectors.shape"
      ],
      "execution_count": 8,
      "outputs": [
        {
          "output_type": "execute_result",
          "data": {
            "text/plain": [
              "(400000, 100)"
            ]
          },
          "metadata": {},
          "execution_count": 8
        }
      ]
    },
    {
      "cell_type": "code",
      "metadata": {
        "id": "rXoyk7t7XHIb"
      },
      "source": [
        "from sklearn.neighbors import NearestNeighbors"
      ],
      "execution_count": 9,
      "outputs": []
    },
    {
      "cell_type": "markdown",
      "metadata": {
        "id": "VchnyUJYkYUB"
      },
      "source": [
        "# Entrenar un modelo de Nearest neighbours con los 20 primeros y distancia coseno"
      ]
    },
    {
      "cell_type": "code",
      "metadata": {
        "id": "8TLQNKXtX06m"
      },
      "source": [
        "nearest = NearestNeighbors( n_neighbors=20 , metric='cosine' )"
      ],
      "execution_count": 10,
      "outputs": []
    },
    {
      "cell_type": "code",
      "metadata": {
        "id": "9WvK0UfeX5GP",
        "colab": {
          "base_uri": "https://localhost:8080/"
        },
        "outputId": "8817c4ae-4643-4390-c4b0-2d277efc19b5"
      },
      "source": [
        "# Entrenar modelo\n",
        "nearest.fit(matrix_word_vectors)"
      ],
      "execution_count": 11,
      "outputs": [
        {
          "output_type": "execute_result",
          "data": {
            "text/plain": [
              "NearestNeighbors(metric='cosine', n_neighbors=20)"
            ]
          },
          "metadata": {},
          "execution_count": 11
        }
      ]
    },
    {
      "cell_type": "code",
      "source": [
        "def get_analogy(word1, word2, word3, embeddings_index=embeddings_index):\n",
        "    # word1 es a word2 como word3 es a word4\n",
        "    # Tiene que devolver word4\n",
        "    embed_word = -embeddings_index[word1] + embeddings_index[word2] + embeddings_index[word3]\n",
        "    distances, nearest_indexes = nearest.kneighbors(embed_word.reshape(1, -1))\n",
        "    word4 = [vocab_list[i] for i in nearest_indexes[0]]\n",
        "    if word1 in word4: word4.remove(word1)\n",
        "    if word2 in word4: word4.remove(word2)\n",
        "    if word3 in word4: word4.remove(word3)\n",
        "    return word4"
      ],
      "metadata": {
        "id": "f-Bgv1tOWKx6"
      },
      "execution_count": 12,
      "outputs": []
    },
    {
      "cell_type": "code",
      "metadata": {
        "id": "deLwGh_zkFbo",
        "colab": {
          "base_uri": "https://localhost:8080/"
        },
        "outputId": "46682a2c-8689-404e-ca43-0abb4770406e"
      },
      "source": [
        "# Probar las siguientes analogías\n",
        "#\n",
        "# woman -> man, queen -> ?\n",
        "# england -> london, france-> ?\n",
        "# woman -> women, man -> ?\n",
        "# messi -> soccer, federer -> ?\n",
        "# switzerland -> alps, argentina ->\n",
        "\n",
        "analogy_vector = get_analogy('woman', 'man', 'queen')\n",
        "print(analogy_vector)\n",
        "\n",
        "analogy_vector = get_analogy('england', 'london', 'france')\n",
        "print(analogy_vector)\n",
        "\n",
        "analogy_vector = get_analogy('woman', 'women', 'man')\n",
        "print(analogy_vector)\n",
        "\n",
        "analogy_vector = get_analogy('messi', 'soccer', 'federer')\n",
        "print(analogy_vector)\n",
        "\n",
        "analogy_vector = get_analogy('switzerland', 'alps', 'argentina')\n",
        "print(analogy_vector)"
      ],
      "execution_count": 13,
      "outputs": [
        {
          "output_type": "stream",
          "name": "stdout",
          "text": [
            "['king', 'royal', 'prince', 'crown', 'vi', 'majesty', 'princess', 'lord', 'palace', 'great', 'monarch', 'ii', 'sir', 'coronation', 'george', 'victoria', 'charles', 'brother', 'elizabeth']\n",
            "['paris', 'brussels', 'french', 'prohertrib', 'britain', 'berlin', 'amsterdam', 'vienna', 'moscow', 'gaulle', 'europe', 'belgium', 'chirac', 'frankfurt', 'european', 'luxembourg', 'strasbourg', 'sarkozy']\n",
            "['men', 'world', 'all', 'well', 'both', 'they', 'those', 'others', 'people', 'one', 'young', 'athletes', 'boys', 'and', 'other', 'girls', 'have', 'many', 'most']\n",
            "['tennis', 'tournament', 'semifinals', 'wimbledon', 'finals', 'tournaments', 'quarterfinals', 'sampras', 'wta', 'agassi', 'masters', 'match', 'golf', 'semifinal', 'championship', 'matches', 'atp', 'upset']\n",
            "['andes', 'pyrenees', 'peru', 'argentine', 'foothills', 'apennines', 'brazil', 'portugal', 'patagonia', 'portuguese', 'juniors', 'chaco', 'mountains', 'coast', 'slopes', 'paraguay', 'madeira', 'pampas']\n"
          ]
        }
      ]
    },
    {
      "cell_type": "code",
      "metadata": {
        "id": "kQR4OqwrYLVn"
      },
      "source": [
        "def get_nearests_words(vector, nearest=nearest):\n",
        "    # Dado un vector, tiene que devolver la lista de los 20 mas cercanos\n",
        "    distances, nearest_indexes = nearest.kneighbors(vector.reshape(1, -1))\n",
        "    words_list = [vocab_list[i] for i in nearest_indexes[0]] \n",
        "    return words_list"
      ],
      "execution_count": 53,
      "outputs": []
    },
    {
      "cell_type": "code",
      "metadata": {
        "id": "FgWBU9zJlIPT",
        "colab": {
          "base_uri": "https://localhost:8080/"
        },
        "outputId": "ef2c6890-b370-4d9d-d98a-3375c52b5de7"
      },
      "source": [
        "# Probar función get_nearests_words\n",
        "\n",
        "# analogy_vector[0]] = 'andes' \n",
        "# analogy_vector[3]] = 'argentine' \n",
        "# analogy_vector[8]] = 'patagonia' \n",
        "# analogy_vector[8]] = 'pampas'\n",
        "\n",
        "get_nearests_words(embeddings_index[analogy_vector[0]]+ embeddings_index[analogy_vector[3]]+ embeddings_index[analogy_vector[8]]+ embeddings_index[analogy_vector[17]] )"
      ],
      "execution_count": 68,
      "outputs": [
        {
          "output_type": "execute_result",
          "data": {
            "text/plain": [
              "['patagonia',\n",
              " 'andes',\n",
              " 'pampas',\n",
              " 'argentine',\n",
              " 'argentina',\n",
              " 'chilean',\n",
              " 'bolivian',\n",
              " 'peru',\n",
              " 'argentinian',\n",
              " 'peruvian',\n",
              " 'bolivia',\n",
              " 'paraguayan',\n",
              " 'andean',\n",
              " 'ecuador',\n",
              " 'foothills',\n",
              " 'plata',\n",
              " 'paraguay',\n",
              " 'amazonian',\n",
              " 'guiana',\n",
              " 'chile']"
            ]
          },
          "metadata": {},
          "execution_count": 68
        }
      ]
    },
    {
      "cell_type": "markdown",
      "source": [
        "# T-SNE"
      ],
      "metadata": {
        "id": "PJVjpVji0S_T"
      }
    },
    {
      "cell_type": "code",
      "metadata": {
        "id": "DILrgwaRYVLu"
      },
      "source": [
        "animals = ['dog',\n",
        " 'cat',\n",
        " 'dogs',\n",
        " 'pet',\n",
        " 'puppy',\n",
        " 'horse',\n",
        " 'animal',\n",
        " 'pig',\n",
        " 'boy',\n",
        " 'cats',\n",
        " 'rabbit',\n",
        " 'goat',\n",
        " 'sled',\n",
        " 'monkey',\n",
        " 'cow',\n",
        " 'rat',\n",
        " 'breed',\n",
        " 'mad',\n",
        " 'hound',\n",
        " 'bird']"
      ],
      "execution_count": 81,
      "outputs": []
    },
    {
      "cell_type": "code",
      "metadata": {
        "id": "oYFVs9ipnbbF"
      },
      "source": [
        "transport = ['car',\n",
        " 'vehicle',\n",
        " 'truck',\n",
        " 'cars',\n",
        " 'driver',\n",
        " 'driving',\n",
        " 'motorcycle',\n",
        " 'vehicles',\n",
        " 'parked',\n",
        " 'bus',\n",
        " 'taxi',\n",
        " 'suv',\n",
        " 'pickup',\n",
        " 'jeep',\n",
        " 'mercedes',\n",
        " 'cab',\n",
        " 'bicycle',\n",
        " 'drivers',\n",
        " 'automobile',\n",
        " 'train']"
      ],
      "execution_count": 82,
      "outputs": []
    },
    {
      "cell_type": "code",
      "metadata": {
        "id": "yg9C7itHnhte"
      },
      "source": [
        "countries = ['argentina',\n",
        " 'england',\n",
        " 'australia',\n",
        " 'spain',\n",
        " 'brazil',\n",
        " 'portugal',\n",
        " 'zealand',\n",
        " 'scotland',\n",
        " 'match',\n",
        " 'africa',\n",
        " 'wales',\n",
        " 'ireland',\n",
        " 'italy',\n",
        " 'matches',\n",
        " 'france',\n",
        " 'indies',\n",
        " 'uruguay',\n",
        " 'britain',\n",
        " 'netherlands',\n",
        " 'united']"
      ],
      "execution_count": 83,
      "outputs": []
    },
    {
      "cell_type": "code",
      "metadata": {
        "id": "7GWSToprnOxe"
      },
      "source": [
        "professions = ['engineer',\n",
        " 'scientist',\n",
        " 'economist',\n",
        " 'professor',\n",
        " 'consultant',\n",
        " 'director',\n",
        " 'dr.',\n",
        " 'doctor',\n",
        " 'researcher',\n",
        " 'expert',\n",
        " 'physician',\n",
        " 'officer',\n",
        " 'surgeon',\n",
        " 'chief',\n",
        " 'assistant',\n",
        " 'specialist',\n",
        " 'associate',\n",
        " 'author',\n",
        " 'worked',\n",
        " 'psychologist']"
      ],
      "execution_count": 84,
      "outputs": []
    },
    {
      "cell_type": "code",
      "metadata": {
        "id": "q7yBjxNNn07R"
      },
      "source": [
        "all_words = animals + transport + countries + professions"
      ],
      "execution_count": 85,
      "outputs": []
    },
    {
      "cell_type": "code",
      "metadata": {
        "id": "LMhEWApEoV_h"
      },
      "source": [
        "vectors_subset = np.array([embeddings_index[word] for word in all_words])"
      ],
      "execution_count": 86,
      "outputs": []
    },
    {
      "cell_type": "code",
      "metadata": {
        "id": "7rOSh6UOoLPX"
      },
      "source": [
        "from sklearn.manifold import TSNE"
      ],
      "execution_count": 87,
      "outputs": []
    },
    {
      "cell_type": "code",
      "metadata": {
        "id": "GhLy6ekooxkK"
      },
      "source": [
        "tsne = TSNE(2, verbose=1)"
      ],
      "execution_count": 88,
      "outputs": []
    },
    {
      "cell_type": "code",
      "metadata": {
        "id": "6-SH_MWXo0MA",
        "colab": {
          "base_uri": "https://localhost:8080/"
        },
        "outputId": "1c16d6aa-08c1-4fab-cdf9-a07419dd078c"
      },
      "source": [
        "%time embed_2d_tsne = tsne.fit_transform(vectors_subset)"
      ],
      "execution_count": 89,
      "outputs": [
        {
          "output_type": "stream",
          "name": "stderr",
          "text": [
            "/usr/local/lib/python3.7/dist-packages/sklearn/manifold/_t_sne.py:783: FutureWarning: The default initialization in TSNE will change from 'random' to 'pca' in 1.2.\n",
            "  FutureWarning,\n",
            "/usr/local/lib/python3.7/dist-packages/sklearn/manifold/_t_sne.py:793: FutureWarning: The default learning rate in TSNE will change from 200.0 to 'auto' in 1.2.\n",
            "  FutureWarning,\n"
          ]
        },
        {
          "output_type": "stream",
          "name": "stdout",
          "text": [
            "[t-SNE] Computing 79 nearest neighbors...\n",
            "[t-SNE] Indexed 80 samples in 0.000s...\n",
            "[t-SNE] Computed neighbors for 80 samples in 0.003s...\n",
            "[t-SNE] Computed conditional probabilities for sample 80 / 80\n",
            "[t-SNE] Mean sigma: 3.172693\n",
            "[t-SNE] KL divergence after 250 iterations with early exaggeration: 54.683838\n",
            "[t-SNE] KL divergence after 1000 iterations: 0.084081\n",
            "CPU times: user 1.11 s, sys: 89 ms, total: 1.2 s\n",
            "Wall time: 639 ms\n"
          ]
        }
      ]
    },
    {
      "cell_type": "code",
      "metadata": {
        "id": "refMfFQqo3-3"
      },
      "source": [
        "from matplotlib import pyplot as plt"
      ],
      "execution_count": 90,
      "outputs": []
    },
    {
      "cell_type": "code",
      "metadata": {
        "id": "tpYyqyQTo-RU",
        "colab": {
          "base_uri": "https://localhost:8080/",
          "height": 267
        },
        "outputId": "19fdbde6-3670-446b-948d-da6b53b94c62"
      },
      "source": [
        "for i in range(4):\n",
        "  plt.scatter(embed_2d_tsne[i*20:(i+1)*20,0], embed_2d_tsne[i*20:(i+1)*20,1], c=f'C{i}')"
      ],
      "execution_count": 91,
      "outputs": [
        {
          "output_type": "display_data",
          "data": {
            "image/png": "[encoded data removed]",
            "text/plain": [
              "<Figure size 432x288 with 1 Axes>"
            ]
          },
          "metadata": {
            "needs_background": "light"
          }
        }
      ]
    },
    {
      "cell_type": "code",
      "metadata": {
        "id": "ITTs5oXipFtB"
      },
      "source": [
        ""
      ],
      "execution_count": null,
      "outputs": []
    },
    {
      "cell_type": "code",
      "source": [
        ""
      ],
      "metadata": {
        "id": "NvR9pP__0vuF"
      },
      "execution_count": null,
      "outputs": []
    },
    {
      "cell_type": "code",
      "source": [
        ""
      ],
      "metadata": {
        "id": "eXxXhUt80vxG"
      },
      "execution_count": null,
      "outputs": []
    },
    {
      "cell_type": "code",
      "source": [
        ""
      ],
      "metadata": {
        "id": "g3Y1L2Lj0vzs"
      },
      "execution_count": null,
      "outputs": []
    }
  ]
}