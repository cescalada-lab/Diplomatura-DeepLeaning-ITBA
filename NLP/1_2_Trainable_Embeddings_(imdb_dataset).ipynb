{
  "nbformat": 4,
  "nbformat_minor": 0,
  "metadata": {
    "accelerator": "GPU",
    "colab": {
      "name": "1.2 Trainable Embeddings (imdb dataset).ipynb",
      "provenance": [],
      "collapsed_sections": []
    },
    "kernelspec": {
      "display_name": "Python 3",
      "language": "python",
      "name": "python3"
    },
    "language_info": {
      "codemirror_mode": {
        "name": "ipython",
        "version": 3
      },
      "file_extension": ".py",
      "mimetype": "text/x-python",
      "name": "python",
      "nbconvert_exporter": "python",
      "pygments_lexer": "ipython3",
      "version": "3.7.3"
    }
  },
  "cells": [
    {
      "cell_type": "markdown",
      "source": [
        "# Importamos Librerias"
      ],
      "metadata": {
        "id": "erbpWAxv8_nF"
      }
    },
    {
      "cell_type": "code",
      "metadata": {
        "id": "0KnibsN1xUk3"
      },
      "source": [
        "from keras.datasets import imdb as dataset\n",
        "#from keras.datasets import reuters as dataset\n",
        "from keras.preprocessing.sequence import pad_sequences\n",
        "import numpy as np\n",
        "from matplotlib import pyplot as plt"
      ],
      "execution_count": null,
      "outputs": []
    },
    {
      "cell_type": "markdown",
      "metadata": {
        "id": "AvpowIEOHzyT"
      },
      "source": [
        "# Cargamos y analizamos el dataset"
      ]
    },
    {
      "cell_type": "code",
      "metadata": {
        "id": "n4ra2gF4HzyU",
        "colab": {
          "base_uri": "https://localhost:8080/"
        },
        "outputId": "9a10e0e8-7b26-47b7-b84e-e3fdda9bf5ba"
      },
      "source": [
        "# Primer hyperparámetro\n",
        "num_words=30000\n",
        "\n",
        "(training_data, training_targets), (testing_data, testing_targets) = dataset.load_data(num_words=num_words+2)\n",
        "data = np.concatenate((training_data, testing_data), axis=0)\n",
        "targets = np.concatenate((training_targets, testing_targets), axis=0)"
      ],
      "execution_count": null,
      "outputs": [
        {
          "output_type": "stream",
          "name": "stdout",
          "text": [
            "Downloading data from https://storage.googleapis.com/tensorflow/tf-keras-datasets/imdb.npz\n",
            "17465344/17464789 [==============================] - 0s 0us/step\n",
            "17473536/17464789 [==============================] - 0s 0us/step\n"
          ]
        }
      ]
    },
    {
      "cell_type": "code",
      "metadata": {
        "id": "EYWTLfB1xUlI",
        "outputId": "1cde8f00-e7cc-4d33-93ad-29432737f5ab",
        "colab": {
          "base_uri": "https://localhost:8080/"
        }
      },
      "source": [
        "# Tengo dos categorías: Sentimiento positivo (1) o sentimiento negativo (0)\n",
        "num_categories = len(np.unique(targets))\n",
        "print(\"Categories:\", np.unique(targets))\n",
        "# Tengo num_words palabras únicas en el vocabulario\n",
        "print(\"Number of unique words:\", len(np.unique(np.hstack(data))))"
      ],
      "execution_count": null,
      "outputs": [
        {
          "output_type": "stream",
          "name": "stdout",
          "text": [
            "Categories: [0 1]\n",
            "Number of unique words: 30000\n"
          ]
        }
      ]
    },
    {
      "cell_type": "code",
      "metadata": {
        "id": "3lZ-DUxtxUlT",
        "outputId": "7b65c1e5-7f67-4062-f51d-a2218551f913",
        "colab": {
          "base_uri": "https://localhost:8080/"
        }
      },
      "source": [
        "# Longitudes promedio de los comentarios de las películas\n",
        "length = [len(i) for i in data]\n",
        "print(\"Average Review length:\", np.mean(length))\n",
        "print(\"Standard Deviation:\", round(np.std(length)))"
      ],
      "execution_count": null,
      "outputs": [
        {
          "output_type": "stream",
          "name": "stdout",
          "text": [
            "Average Review length: 234.75892\n",
            "Standard Deviation: 173\n"
          ]
        }
      ]
    },
    {
      "cell_type": "markdown",
      "metadata": {
        "id": "DGeDrxcRHzya"
      },
      "source": [
        "# Impresión de comentario preprocesado con su etiqueta"
      ]
    },
    {
      "cell_type": "code",
      "metadata": {
        "id": "qnT33-acxUlZ",
        "outputId": "a6f5eaa2-abe7-4605-f9c5-341bf2964e28",
        "colab": {
          "base_uri": "https://localhost:8080/"
        }
      },
      "source": [
        "# Imprimo cometario i'esimo con su clasificación de sentimiento\n",
        "i = 0\n",
        "print(\"Label:\", targets[i])\n",
        "# Las comentarios ya están preprocesados\n",
        "print(data[i])"
      ],
      "execution_count": null,
      "outputs": [
        {
          "output_type": "stream",
          "name": "stdout",
          "text": [
            "Label: 1\n",
            "[1, 14, 22, 16, 43, 530, 973, 1622, 1385, 65, 458, 4468, 66, 3941, 4, 173, 36, 256, 5, 25, 100, 43, 838, 112, 50, 670, 22665, 9, 35, 480, 284, 5, 150, 4, 172, 112, 167, 21631, 336, 385, 39, 4, 172, 4536, 1111, 17, 546, 38, 13, 447, 4, 192, 50, 16, 6, 147, 2025, 19, 14, 22, 4, 1920, 4613, 469, 4, 22, 71, 87, 12, 16, 43, 530, 38, 76, 15, 13, 1247, 4, 22, 17, 515, 17, 12, 16, 626, 18, 19193, 5, 62, 386, 12, 8, 316, 8, 106, 5, 4, 2223, 5244, 16, 480, 66, 3785, 33, 4, 130, 12, 16, 38, 619, 5, 25, 124, 51, 36, 135, 48, 25, 1415, 33, 6, 22, 12, 215, 28, 77, 52, 5, 14, 407, 16, 82, 10311, 8, 4, 107, 117, 5952, 15, 256, 4, 2, 7, 3766, 5, 723, 36, 71, 43, 530, 476, 26, 400, 317, 46, 7, 4, 12118, 1029, 13, 104, 88, 4, 381, 15, 297, 98, 32, 2071, 56, 26, 141, 6, 194, 7486, 18, 4, 226, 22, 21, 134, 476, 26, 480, 5, 144, 30, 5535, 18, 51, 36, 28, 224, 92, 25, 104, 4, 226, 65, 16, 38, 1334, 88, 12, 16, 283, 5, 16, 4472, 113, 103, 32, 15, 16, 5345, 19, 178, 32]\n"
          ]
        }
      ]
    },
    {
      "cell_type": "code",
      "metadata": {
        "id": "GSVq9thIxUlh",
        "outputId": "52d9b6e5-0fb9-43d9-9029-56de612939f0",
        "colab": {
          "base_uri": "https://localhost:8080/"
        }
      },
      "source": [
        "# Bajamos diccionario de palabras a indices\n",
        "index = dataset.get_word_index()\n",
        "print([f'{k}:{v}' for k,v in index.items()][:100])"
      ],
      "execution_count": null,
      "outputs": [
        {
          "output_type": "stream",
          "name": "stdout",
          "text": [
            "Downloading data from https://storage.googleapis.com/tensorflow/tf-keras-datasets/imdb_word_index.json\n",
            "1646592/1641221 [==============================] - 0s 0us/step\n",
            "1654784/1641221 [==============================] - 0s 0us/step\n",
            "['fawn:34701', 'tsukino:52006', 'nunnery:52007', 'sonja:16816', 'vani:63951', 'woods:1408', 'spiders:16115', 'hanging:2345', 'woody:2289', 'trawling:52008', \"hold's:52009\", 'comically:11307', 'localized:40830', 'disobeying:30568', \"'royale:52010\", \"harpo's:40831\", 'canet:52011', 'aileen:19313', 'acurately:52012', \"diplomat's:52013\", 'rickman:25242', 'arranged:6746', 'rumbustious:52014', 'familiarness:52015', \"spider':52016\", 'hahahah:68804', \"wood':52017\", 'transvestism:40833', \"hangin':34702\", 'bringing:2338', 'seamier:40834', 'wooded:34703', 'bravora:52018', 'grueling:16817', 'wooden:1636', 'wednesday:16818', \"'prix:52019\", 'altagracia:34704', 'circuitry:52020', 'crotch:11585', 'busybody:57766', \"tart'n'tangy:52021\", 'burgade:14129', 'thrace:52023', \"tom's:11038\", 'snuggles:52025', 'francesco:29114', 'complainers:52027', 'templarios:52125', '272:40835', '273:52028', 'zaniacs:52130', '275:34706', 'consenting:27631', 'snuggled:40836', 'inanimate:15492', 'uality:52030', 'bronte:11926', 'errors:4010', 'dialogs:3230', \"yomada's:52031\", \"madman's:34707\", 'dialoge:30585', 'usenet:52033', 'videodrome:40837', \"kid':26338\", 'pawed:52034', \"'girlfriend':30569\", \"'pleasure:52035\", \"'reloaded':52036\", \"kazakos':40839\", 'rocque:52037', 'mailings:52038', 'brainwashed:11927', 'mcanally:16819', \"tom'':52039\", 'kurupt:25243', 'affiliated:21905', 'babaganoosh:52040', \"noe's:40840\", 'quart:40841', 'kids:359', 'uplifting:5034', 'controversy:7093', 'kida:21906', 'kidd:23379', \"error':52041\", 'neurologist:52042', 'spotty:18510', 'cobblers:30570', 'projection:9878', 'fastforwarding:40842', 'sters:52043', \"eggar's:52044\", 'etherything:52045', 'gateshead:40843', 'airball:34708', 'unsinkable:25244', 'stern:7180', \"cervi's:52046\"]\n"
          ]
        }
      ]
    },
    {
      "cell_type": "code",
      "metadata": {
        "id": "xrmkTbXyHzyf",
        "colab": {
          "base_uri": "https://localhost:8080/"
        },
        "outputId": "9e5dfbc8-939e-4c30-87c6-64ca6c8b848e"
      },
      "source": [
        "# Armo diccionario reverso: de indices a palabras\n",
        "reverse_index = dict([(value, key) for (key, value) in index.items()]) \n",
        "print([f'{k}:{v}' for k,v in reverse_index.items()][:100])"
      ],
      "execution_count": null,
      "outputs": [
        {
          "output_type": "stream",
          "name": "stdout",
          "text": [
            "['34701:fawn', '52006:tsukino', '52007:nunnery', '16816:sonja', '63951:vani', '1408:woods', '16115:spiders', '2345:hanging', '2289:woody', '52008:trawling', \"52009:hold's\", '11307:comically', '40830:localized', '30568:disobeying', \"52010:'royale\", \"40831:harpo's\", '52011:canet', '19313:aileen', '52012:acurately', \"52013:diplomat's\", '25242:rickman', '6746:arranged', '52014:rumbustious', '52015:familiarness', \"52016:spider'\", '68804:hahahah', \"52017:wood'\", '40833:transvestism', \"34702:hangin'\", '2338:bringing', '40834:seamier', '34703:wooded', '52018:bravora', '16817:grueling', '1636:wooden', '16818:wednesday', \"52019:'prix\", '34704:altagracia', '52020:circuitry', '11585:crotch', '57766:busybody', \"52021:tart'n'tangy\", '14129:burgade', '52023:thrace', \"11038:tom's\", '52025:snuggles', '29114:francesco', '52027:complainers', '52125:templarios', '40835:272', '52028:273', '52130:zaniacs', '34706:275', '27631:consenting', '40836:snuggled', '15492:inanimate', '52030:uality', '11926:bronte', '4010:errors', '3230:dialogs', \"52031:yomada's\", \"34707:madman's\", '30585:dialoge', '52033:usenet', '40837:videodrome', \"26338:kid'\", '52034:pawed', \"30569:'girlfriend'\", \"52035:'pleasure\", \"52036:'reloaded'\", \"40839:kazakos'\", '52037:rocque', '52038:mailings', '11927:brainwashed', '16819:mcanally', \"52039:tom''\", '25243:kurupt', '21905:affiliated', '52040:babaganoosh', \"40840:noe's\", '40841:quart', '359:kids', '5034:uplifting', '7093:controversy', '21906:kida', '23379:kidd', \"52041:error'\", '52042:neurologist', '18510:spotty', '30570:cobblers', '9878:projection', '40842:fastforwarding', '52043:sters', \"52044:eggar's\", '52045:etherything', '40843:gateshead', '34708:airball', '25244:unsinkable', '7180:stern', \"52046:cervi's\"]\n"
          ]
        }
      ]
    },
    {
      "cell_type": "code",
      "metadata": {
        "id": "Lhq6d5MWHzyi",
        "colab": {
          "base_uri": "https://localhost:8080/"
        },
        "outputId": "48c4aa29-c835-4ee8-a9d3-29065e6be260"
      },
      "source": [
        "decoded = \" \".join( [reverse_index.get(i - 3, \"#\") for i in data[1]] )\n",
        "print(data[1])\n",
        "print()\n",
        "print(decoded)"
      ],
      "execution_count": null,
      "outputs": [
        {
          "output_type": "stream",
          "name": "stdout",
          "text": [
            "[1, 194, 1153, 194, 8255, 78, 228, 5, 6, 1463, 4369, 5012, 134, 26, 4, 715, 8, 118, 1634, 14, 394, 20, 13, 119, 954, 189, 102, 5, 207, 110, 3103, 21, 14, 69, 188, 8, 30, 23, 7, 4, 249, 126, 93, 4, 114, 9, 2300, 1523, 5, 647, 4, 116, 9, 35, 8163, 4, 229, 9, 340, 1322, 4, 118, 9, 4, 130, 4901, 19, 4, 1002, 5, 89, 29, 952, 46, 37, 4, 455, 9, 45, 43, 38, 1543, 1905, 398, 4, 1649, 26, 6853, 5, 163, 11, 3215, 10156, 4, 1153, 9, 194, 775, 7, 8255, 11596, 349, 2637, 148, 605, 15358, 8003, 15, 123, 125, 68, 23141, 6853, 15, 349, 165, 4362, 98, 5, 4, 228, 9, 43, 2, 1157, 15, 299, 120, 5, 120, 174, 11, 220, 175, 136, 50, 9, 4373, 228, 8255, 5, 25249, 656, 245, 2350, 5, 4, 9837, 131, 152, 491, 18, 2, 32, 7464, 1212, 14, 9, 6, 371, 78, 22, 625, 64, 1382, 9, 8, 168, 145, 23, 4, 1690, 15, 16, 4, 1355, 5, 28, 6, 52, 154, 462, 33, 89, 78, 285, 16, 145, 95]\n",
            "\n",
            "# big hair big boobs bad music and a giant safety pin these are the words to best describe this terrible movie i love cheesy horror movies and i've seen hundreds but this had got to be on of the worst ever made the plot is paper thin and ridiculous the acting is an abomination the script is completely laughable the best is the end showdown with the cop and how he worked out who the killer is it's just so damn terribly written the clothes are sickening and funny in equal measures the hair is big lots of boobs bounce men wear those cut tee shirts that show off their stomachs sickening that men actually wore them and the music is just # trash that plays over and over again in almost every scene there is trashy music boobs and paramedics taking away bodies and the gym still doesn't close for # all joking aside this is a truly bad film whose only charm is to look back on the disaster that was the 80's and have a good old laugh at how bad everything was back then\n"
          ]
        }
      ]
    },
    {
      "cell_type": "code",
      "source": [
        "#Observamos el largo de cada artículo \n",
        "lengths= [ len(article) for article in data ]"
      ],
      "metadata": {
        "id": "xfml08Nr_bDF"
      },
      "execution_count": null,
      "outputs": []
    },
    {
      "cell_type": "markdown",
      "source": [
        "# Graficamos el dataset"
      ],
      "metadata": {
        "id": "QCy_8vCxBPye"
      }
    },
    {
      "cell_type": "code",
      "source": [
        "plt.figure(figsize=(15,5))\n",
        "plt.hist(lengths,bins=100,label=\"Longitud de comentarios\")\n",
        "plt.title(label=\"Distribución de Longitudes de Artículos\", fontsize=\"32\",loc=\"center\")\n",
        "#plt.plot([500,500],[0,1750])\n",
        "plt.axvline(x=1000, label='Longitud máxima de comentario = {}'.format(1000), c=\"r\")\n",
        "plt.legend( loc=\"upper right\")\n",
        "plt.show()"
      ],
      "metadata": {
        "colab": {
          "base_uri": "https://localhost:8080/",
          "height": 353
        },
        "id": "HrHAxnfvBOk3",
        "outputId": "126bcb9c-f21f-463f-957b-2df1f3da4444"
      },
      "execution_count": null,
      "outputs": [
        {
          "output_type": "display_data",
          "data": {
            "image/png": "[encoded data removed]",
            "text/plain": [
              "<Figure size 1080x360 with 1 Axes>"
            ]
          },
          "metadata": {
            "needs_background": "light"
          }
        }
      ]
    },
    {
      "cell_type": "markdown",
      "metadata": {
        "id": "RBL_1v2eHzym"
      },
      "source": [
        "# Padding y formateo de data para entrenar"
      ]
    },
    {
      "cell_type": "code",
      "metadata": {
        "id": "HifepVsJxUlo"
      },
      "source": [
        "# Hyperparametro - Longitud máxima de comentario\n",
        "maxlen=1000"
      ],
      "execution_count": null,
      "outputs": []
    },
    {
      "cell_type": "code",
      "metadata": {
        "id": "Tb8Mf33exUlu"
      },
      "source": [
        "data = pad_sequences(data,maxlen=maxlen)"
      ],
      "execution_count": null,
      "outputs": []
    },
    {
      "cell_type": "code",
      "metadata": {
        "id": "Fq-c12e5xUl8",
        "outputId": "0832b3a1-b667-4fe2-b396-c4e9bcb71ccf",
        "colab": {
          "base_uri": "https://localhost:8080/"
        }
      },
      "source": [
        "# Verificamos que todos tengan longitud 1000\n",
        "print(len(data[0]))\n",
        "print(np.array([len(d) for d in data]).var())"
      ],
      "execution_count": null,
      "outputs": [
        {
          "output_type": "stream",
          "name": "stdout",
          "text": [
            "1000\n",
            "0.0\n"
          ]
        }
      ]
    },
    {
      "cell_type": "code",
      "metadata": {
        "id": "jXBIUZaNxUmD"
      },
      "source": [
        "data=np.array(data)"
      ],
      "execution_count": null,
      "outputs": []
    },
    {
      "cell_type": "code",
      "metadata": {
        "id": "_Gwma-IqxUmK",
        "outputId": "68bc3db9-bbbe-4733-d1ec-f2bca926ecdd",
        "colab": {
          "base_uri": "https://localhost:8080/"
        }
      },
      "source": [
        "data.shape"
      ],
      "execution_count": null,
      "outputs": [
        {
          "output_type": "execute_result",
          "data": {
            "text/plain": [
              "(50000, 1000)"
            ]
          },
          "metadata": {},
          "execution_count": 18
        }
      ]
    },
    {
      "cell_type": "markdown",
      "metadata": {
        "id": "8bplIZHWNUXo"
      },
      "source": [
        "# Armar una MLP con one-hot encoding para resolver el problema"
      ]
    },
    {
      "cell_type": "code",
      "metadata": {
        "id": "MQ51AMr2Nbok"
      },
      "source": [
        "from keras.layers import Dense\n",
        "from keras.models import Sequential"
      ],
      "execution_count": null,
      "outputs": []
    },
    {
      "cell_type": "code",
      "metadata": {
        "id": "YV5eg2fDNdtk"
      },
      "source": [
        "# usar maxlen y num_words para calcular la entrada\n",
        "# Utilizar una sola capa\n",
        "model = Sequential()\n",
        "## TODO\n",
        "salida_densa = num_categories \n",
        "input_shape = [maxlen*num_words]\n",
        "model.add(Dense(salida_densa, input_shape=input_shape, activation='softmax'))"
      ],
      "execution_count": null,
      "outputs": []
    },
    {
      "cell_type": "code",
      "metadata": {
        "id": "PXqCIIv6OWe8"
      },
      "source": [
        "# model.summary()"
      ],
      "execution_count": null,
      "outputs": []
    },
    {
      "cell_type": "markdown",
      "metadata": {
        "id": "h-RLYV5QPBEX"
      },
      "source": [
        "## ¿Por que no es viable esta red?\n",
        "\n",
        "Esta red no es viable por el costo computacional que representa al tener que multiplicar: ``[maxlen * num_words] `` = **_500*30000_**, por esta razón es mas eficiente utilizar embeddings.\n"
      ]
    },
    {
      "cell_type": "markdown",
      "source": [
        "# Armar una MLP usando Embeddings\n",
        "Armamos Red con ``salida_capa_densa =1`` y ``Loss =Binary_CrossEntropy``"
      ],
      "metadata": {
        "id": "Yz07QIWSlSWa"
      }
    },
    {
      "cell_type": "code",
      "metadata": {
        "id": "ecjdmUczPIVf"
      },
      "source": [
        "from tensorflow.keras.layers import Embedding, Flatten, Dropout\n",
        "from tensorflow.keras import optimizers"
      ],
      "execution_count": null,
      "outputs": []
    },
    {
      "cell_type": "code",
      "source": [
        "# Cantidad de palabras totales contando las reservadas\n",
        "nb_words=num_words+3\n",
        "# Tamano del embedding. Es un hiperparámetro y puede modificarlo\n",
        "embed_dim=32\n",
        "salida_capa_densa = 1 # por que tiene calificación (+) o (-) va a tener tamaño 1\n",
        "dropout=0.5 # Hiperparámetro\n",
        "\n",
        "model = Sequential()\n",
        "model.add(Embedding(nb_words, embed_dim, input_length= maxlen, trainable=True))\n",
        "model.add(Flatten())\n",
        "model.add(Dropout(dropout))\n",
        "model.add(Dense(salida_capa_densa, activation='sigmoid'))"
      ],
      "metadata": {
        "id": "NTLqpRXklhy4"
      },
      "execution_count": null,
      "outputs": []
    },
    {
      "cell_type": "code",
      "source": [
        "model.summary()"
      ],
      "metadata": {
        "colab": {
          "base_uri": "https://localhost:8080/"
        },
        "id": "MheZd8uploaQ",
        "outputId": "b8c751c4-c91b-451b-e077-267483f2fbed"
      },
      "execution_count": null,
      "outputs": [
        {
          "output_type": "stream",
          "name": "stdout",
          "text": [
            "Model: \"sequential_4\"\n",
            "_________________________________________________________________\n",
            " Layer (type)                Output Shape              Param #   \n",
            "=================================================================\n",
            " embedding_3 (Embedding)     (None, 1000, 32)          960096    \n",
            "                                                                 \n",
            " flatten_1 (Flatten)         (None, 32000)             0         \n",
            "                                                                 \n",
            " dropout_3 (Dropout)         (None, 32000)             0         \n",
            "                                                                 \n",
            " dense_4 (Dense)             (None, 1)                 32001     \n",
            "                                                                 \n",
            "=================================================================\n",
            "Total params: 992,097\n",
            "Trainable params: 992,097\n",
            "Non-trainable params: 0\n",
            "_________________________________________________________________\n"
          ]
        }
      ]
    },
    {
      "cell_type": "code",
      "source": [
        "# MODIFIQUE HYPERPARAMS A GUSTO\n",
        "adam = optimizers.Adam(learning_rate=0.001, beta_1=0.9, beta_2=0.999, epsilon=1e-08, decay=0.0)\n",
        "\n",
        "model.compile(loss='binary_crossentropy', optimizer=adam, metrics=['accuracy'])\n",
        "model.fit(data,targets,batch_size=32,epochs=5,validation_split=0.2)"
      ],
      "metadata": {
        "colab": {
          "base_uri": "https://localhost:8080/"
        },
        "id": "yxe32gO9lo1R",
        "outputId": "8d287784-168d-4d36-a142-9845afed54ba"
      },
      "execution_count": null,
      "outputs": [
        {
          "output_type": "stream",
          "name": "stdout",
          "text": [
            "Epoch 1/5\n",
            "1250/1250 [==============================] - 12s 9ms/step - loss: 0.3993 - accuracy: 0.8117 - val_loss: 0.2474 - val_accuracy: 0.9032\n",
            "Epoch 2/5\n",
            "1250/1250 [==============================] - 10s 8ms/step - loss: 0.1905 - accuracy: 0.9287 - val_loss: 0.2375 - val_accuracy: 0.9031\n",
            "Epoch 3/5\n",
            "1250/1250 [==============================] - 11s 8ms/step - loss: 0.1170 - accuracy: 0.9624 - val_loss: 0.2482 - val_accuracy: 0.9006\n",
            "Epoch 4/5\n",
            "1250/1250 [==============================] - 10s 8ms/step - loss: 0.0714 - accuracy: 0.9797 - val_loss: 0.2637 - val_accuracy: 0.9004\n",
            "Epoch 5/5\n",
            "1250/1250 [==============================] - 10s 8ms/step - loss: 0.0439 - accuracy: 0.9882 - val_loss: 0.2830 - val_accuracy: 0.8985\n"
          ]
        },
        {
          "output_type": "execute_result",
          "data": {
            "text/plain": [
              "<keras.callbacks.History at 0x7f451396c4d0>"
            ]
          },
          "metadata": {},
          "execution_count": 39
        }
      ]
    },
    {
      "cell_type": "markdown",
      "source": [
        "# Armamos otra MLP usando Embeddings\n",
        "Armamos Red con ``salida_capa_densa =1`` , ``Loss =Binary_CrossEntropy`` y ``GlobalAveragePooling1D``"
      ],
      "metadata": {
        "id": "l9gJDmevtK-l"
      }
    },
    {
      "cell_type": "code",
      "source": [
        "from tensorflow.keras.layers import GlobalAveragePooling1D\n",
        "from tensorflow.keras import optimizers"
      ],
      "metadata": {
        "id": "6JVrBbnCtKek"
      },
      "execution_count": null,
      "outputs": []
    },
    {
      "cell_type": "code",
      "source": [
        "# Cantidad de palabras totales contando las reservadas\n",
        "nb_words=num_words+3\n",
        "# Tamano del embedding. Es un hiperparámetro y puede modificarlo\n",
        "embed_dim=32\n",
        "salida_capa_densa = 1 # por que tiene calificación (+) o (-) va a tener tamaño 1\n",
        "dropout=0.5 # Hiperparámetro\n",
        "\n",
        "model = Sequential()\n",
        "model.add(Embedding(nb_words, embed_dim, input_length= maxlen, trainable=True))\n",
        "model.add(GlobalAveragePooling1D())\n",
        "model.add(Dropout(dropout))\n",
        "model.add(Dense(salida_capa_densa, activation='sigmoid'))"
      ],
      "metadata": {
        "id": "bjE3aJFruAmn"
      },
      "execution_count": null,
      "outputs": []
    },
    {
      "cell_type": "code",
      "source": [
        "model.summary()"
      ],
      "metadata": {
        "colab": {
          "base_uri": "https://localhost:8080/"
        },
        "id": "t--B1kd2uApO",
        "outputId": "278fde91-101f-480a-9667-4655a4b8de03"
      },
      "execution_count": null,
      "outputs": [
        {
          "output_type": "stream",
          "name": "stdout",
          "text": [
            "Model: \"sequential_5\"\n",
            "_________________________________________________________________\n",
            " Layer (type)                Output Shape              Param #   \n",
            "=================================================================\n",
            " embedding_4 (Embedding)     (None, 1000, 32)          960096    \n",
            "                                                                 \n",
            " global_average_pooling1d (G  (None, 32)               0         \n",
            " lobalAveragePooling1D)                                          \n",
            "                                                                 \n",
            " dropout_4 (Dropout)         (None, 32)                0         \n",
            "                                                                 \n",
            " dense_5 (Dense)             (None, 1)                 33        \n",
            "                                                                 \n",
            "=================================================================\n",
            "Total params: 960,129\n",
            "Trainable params: 960,129\n",
            "Non-trainable params: 0\n",
            "_________________________________________________________________\n"
          ]
        }
      ]
    },
    {
      "cell_type": "code",
      "source": [
        "# MODIFIQUE HYPERPARAMS A GUSTO\n",
        "adam = optimizers.Adam(learning_rate=0.001, beta_1=0.9, beta_2=0.999, epsilon=1e-08, decay=0.0)\n",
        "\n",
        "model.compile(loss='binary_crossentropy', optimizer=adam, metrics=['accuracy'])\n",
        "model.fit(data,targets,batch_size=32,epochs=5,validation_split=0.2)"
      ],
      "metadata": {
        "colab": {
          "base_uri": "https://localhost:8080/"
        },
        "id": "UvzqFJ71uAru",
        "outputId": "f8b43a1d-c0c0-4ac4-f7a3-b6c1b54f4fec"
      },
      "execution_count": null,
      "outputs": [
        {
          "output_type": "stream",
          "name": "stdout",
          "text": [
            "Epoch 1/5\n",
            "1250/1250 [==============================] - 12s 9ms/step - loss: 0.6636 - accuracy: 0.6539 - val_loss: 0.6061 - val_accuracy: 0.7978\n",
            "Epoch 2/5\n",
            "1250/1250 [==============================] - 11s 9ms/step - loss: 0.5302 - accuracy: 0.8151 - val_loss: 0.4662 - val_accuracy: 0.8481\n",
            "Epoch 3/5\n",
            "1250/1250 [==============================] - 13s 11ms/step - loss: 0.4144 - accuracy: 0.8624 - val_loss: 0.3780 - val_accuracy: 0.8749\n",
            "Epoch 4/5\n",
            "1250/1250 [==============================] - 11s 9ms/step - loss: 0.3448 - accuracy: 0.8820 - val_loss: 0.3329 - val_accuracy: 0.8781\n",
            "Epoch 5/5\n",
            "1250/1250 [==============================] - 11s 9ms/step - loss: 0.3025 - accuracy: 0.8942 - val_loss: 0.3001 - val_accuracy: 0.8925\n"
          ]
        },
        {
          "output_type": "execute_result",
          "data": {
            "text/plain": [
              "<keras.callbacks.History at 0x7f4513639710>"
            ]
          },
          "metadata": {},
          "execution_count": 44
        }
      ]
    },
    {
      "cell_type": "code",
      "source": [
        "model.layers[0].get_weights()[0].shape"
      ],
      "metadata": {
        "colab": {
          "base_uri": "https://localhost:8080/"
        },
        "id": "PZpd7kTfuAuQ",
        "outputId": "f41b6cdf-b472-40a5-b5b8-582c77876c3b"
      },
      "execution_count": null,
      "outputs": [
        {
          "output_type": "execute_result",
          "data": {
            "text/plain": [
              "(30003, 32)"
            ]
          },
          "metadata": {},
          "execution_count": 49
        }
      ]
    },
    {
      "cell_type": "markdown",
      "metadata": {
        "id": "bnvzV5wiPKjs"
      },
      "source": [
        "# Armamos otra MLP usando Embeddings\n",
        "``Achicamos Dropout a 0.2``"
      ]
    },
    {
      "cell_type": "code",
      "metadata": {
        "id": "OPTlDXslPO0o"
      },
      "source": [
        "# Cantidad de palabras totales contando las reservadas\n",
        "nb_words=num_words+3\n",
        "# Tamano del embedding. Es un hiperparámetro y puede modificarlo\n",
        "embed_dim=32\n",
        "salida_capa_densa = 1 # por que tiene calificación (+) o (-) va a tener tamaño 1\n",
        "dropout=0.2 # Hiperparámetro\n",
        "\n",
        "model = Sequential()\n",
        "model.add(Embedding(nb_words, embed_dim, input_length= maxlen, trainable=True))\n",
        "model.add(Flatten())\n",
        "model.add(Dropout(dropout))\n",
        "model.add(Dense(salida_capa_densa, activation='sigmoid'))"
      ],
      "execution_count": null,
      "outputs": []
    },
    {
      "cell_type": "code",
      "metadata": {
        "id": "qTs8XKCLPVqX",
        "colab": {
          "base_uri": "https://localhost:8080/"
        },
        "outputId": "619051c3-2671-471d-c976-b7d32dedde7f"
      },
      "source": [
        "model.summary()"
      ],
      "execution_count": null,
      "outputs": [
        {
          "output_type": "stream",
          "name": "stdout",
          "text": [
            "Model: \"sequential_7\"\n",
            "_________________________________________________________________\n",
            " Layer (type)                Output Shape              Param #   \n",
            "=================================================================\n",
            " embedding_6 (Embedding)     (None, 1000, 32)          960096    \n",
            "                                                                 \n",
            " flatten_3 (Flatten)         (None, 32000)             0         \n",
            "                                                                 \n",
            " dropout_6 (Dropout)         (None, 32000)             0         \n",
            "                                                                 \n",
            " dense_7 (Dense)             (None, 1)                 32001     \n",
            "                                                                 \n",
            "=================================================================\n",
            "Total params: 992,097\n",
            "Trainable params: 992,097\n",
            "Non-trainable params: 0\n",
            "_________________________________________________________________\n"
          ]
        }
      ]
    },
    {
      "cell_type": "code",
      "metadata": {
        "id": "J6bygoYSP1PW"
      },
      "source": [
        "# MODIFIQUE HYPERPARAMS A GUSTO\n",
        "adam = optimizers.Adam(learning_rate=0.001, beta_1=0.9, beta_2=0.999, epsilon=1e-08, decay=0.0)\n",
        "\n",
        "model.compile(loss='binary_crossentropy', optimizer=adam, metrics=['accuracy'])"
      ],
      "execution_count": null,
      "outputs": []
    },
    {
      "cell_type": "code",
      "metadata": {
        "id": "U4tv5kkjPuaj",
        "colab": {
          "base_uri": "https://localhost:8080/"
        },
        "outputId": "eadb9079-91eb-41d2-a48c-075af10daec9"
      },
      "source": [
        "model.fit(data,targets,batch_size=32,epochs=5,validation_split=0.2)"
      ],
      "execution_count": null,
      "outputs": [
        {
          "output_type": "stream",
          "name": "stdout",
          "text": [
            "Epoch 1/5\n",
            "1250/1250 [==============================] - 12s 9ms/step - loss: 0.3728 - accuracy: 0.8292 - val_loss: 0.2428 - val_accuracy: 0.9037\n",
            "Epoch 2/5\n",
            "1250/1250 [==============================] - 10s 8ms/step - loss: 0.1637 - accuracy: 0.9400 - val_loss: 0.2442 - val_accuracy: 0.9012\n",
            "Epoch 3/5\n",
            "1250/1250 [==============================] - 10s 8ms/step - loss: 0.0829 - accuracy: 0.9764 - val_loss: 0.2611 - val_accuracy: 0.9005\n",
            "Epoch 4/5\n",
            "1250/1250 [==============================] - 11s 9ms/step - loss: 0.0380 - accuracy: 0.9926 - val_loss: 0.2843 - val_accuracy: 0.8973\n",
            "Epoch 5/5\n",
            "1250/1250 [==============================] - 11s 9ms/step - loss: 0.0167 - accuracy: 0.9978 - val_loss: 0.3179 - val_accuracy: 0.8942\n"
          ]
        },
        {
          "output_type": "execute_result",
          "data": {
            "text/plain": [
              "<keras.callbacks.History at 0x7f4513a6e410>"
            ]
          },
          "metadata": {},
          "execution_count": 64
        }
      ]
    },
    {
      "cell_type": "markdown",
      "metadata": {
        "id": "hNPXfSxWQRI3"
      },
      "source": [
        "# Armar una CNN\n",
        "Abajo hay un ejemplo de arquitectura"
      ]
    },
    {
      "cell_type": "code",
      "metadata": {
        "id": "C8Yi3_A4V5AS"
      },
      "source": [
        "# _________________________________________________________________\n",
        "# Layer (type)                 Output Shape              Param #   \n",
        "# =================================================================\n",
        "# embedding_12 (Embedding)     (None, 1000, 32)          960096    \n",
        "# _________________________________________________________________\n",
        "# conv1d_7 (Conv1D)            (None, 1000, 64)          14400     \n",
        "# _________________________________________________________________\n",
        "# max_pooling1d_4 (MaxPooling1 (None, 500, 64)           0         \n",
        "# _________________________________________________________________\n",
        "# conv1d_8 (Conv1D)            (None, 500, 128)          57472     \n",
        "# _________________________________________________________________\n",
        "# global_max_pooling1d_4 (Glob (None, 128)               0         \n",
        "# _________________________________________________________________\n",
        "# dropout_4 (Dropout)          (None, 128)               0         \n",
        "# _________________________________________________________________\n",
        "# dense_19 (Dense)             (None, 46)                5934      \n",
        "# ================================================================="
      ],
      "execution_count": null,
      "outputs": []
    },
    {
      "cell_type": "code",
      "source": [
        "from keras.layers import Embedding, Conv1D, MaxPooling1D, GlobalMaxPooling1D, Dropout, Dense\n",
        "num_filters=64\n",
        "\n",
        "model = Sequential()                                                              \n",
        "model.add(Embedding(nb_words, embed_dim, input_length= maxlen, trainable=True))   \n",
        "model.add(Conv1D(num_filters, 7, activation='relu', padding='same'))      #filters, kernel_size,          \n",
        "model.add(MaxPooling1D(2)) #pool_size=2\n",
        "model.add(Conv1D(num_filters*2, 7, activation='relu', padding='same'))\n",
        "model.add(GlobalMaxPooling1D())\n",
        "model.add(Dropout(0.5))\n",
        "model.add(Dense(1, activation='sigmoid'))"
      ],
      "metadata": {
        "id": "0rAXlTZbdNPD"
      },
      "execution_count": null,
      "outputs": []
    },
    {
      "cell_type": "code",
      "source": [
        "model.summary()"
      ],
      "metadata": {
        "colab": {
          "base_uri": "https://localhost:8080/"
        },
        "id": "FRc69t_yfx7L",
        "outputId": "2075e75c-dc45-4e10-df2a-d21e82f487af"
      },
      "execution_count": null,
      "outputs": [
        {
          "output_type": "stream",
          "name": "stdout",
          "text": [
            "Model: \"sequential_13\"\n",
            "_________________________________________________________________\n",
            " Layer (type)                Output Shape              Param #   \n",
            "=================================================================\n",
            " embedding_12 (Embedding)    (None, 1000, 32)          960096    \n",
            "                                                                 \n",
            " conv1d_15 (Conv1D)          (None, 1000, 64)          14400     \n",
            "                                                                 \n",
            " max_pooling1d_9 (MaxPooling  (None, 500, 64)          0         \n",
            " 1D)                                                             \n",
            "                                                                 \n",
            " conv1d_16 (Conv1D)          (None, 500, 128)          57472     \n",
            "                                                                 \n",
            " global_max_pooling1d_6 (Glo  (None, 128)              0         \n",
            " balMaxPooling1D)                                                \n",
            "                                                                 \n",
            " dropout_12 (Dropout)        (None, 128)               0         \n",
            "                                                                 \n",
            " dense_13 (Dense)            (None, 1)                 129       \n",
            "                                                                 \n",
            "=================================================================\n",
            "Total params: 1,032,097\n",
            "Trainable params: 1,032,097\n",
            "Non-trainable params: 0\n",
            "_________________________________________________________________\n"
          ]
        }
      ]
    },
    {
      "cell_type": "code",
      "metadata": {
        "id": "ssxu2rPVV_d_",
        "colab": {
          "base_uri": "https://localhost:8080/"
        },
        "outputId": "6954c0de-ebea-4880-cd0b-360c617c516c"
      },
      "source": [
        "# MODIFIQUE HYPERPARAMS A GUSTO\n",
        "adam = optimizers.Adam(learning_rate=0.001, beta_1=0.9, beta_2=0.999, epsilon=1e-08, decay=0.0)\n",
        "\n",
        "model.compile(loss='binary_crossentropy', optimizer=adam, metrics=['accuracy'])\n",
        "\n",
        "model.fit(data,targets,batch_size=32,epochs=5,validation_split=0.2)"
      ],
      "execution_count": null,
      "outputs": [
        {
          "output_type": "stream",
          "name": "stdout",
          "text": [
            "Epoch 1/5\n",
            "1250/1250 [==============================] - 27s 20ms/step - loss: 0.3725 - accuracy: 0.8231 - val_loss: 0.2388 - val_accuracy: 0.9064\n",
            "Epoch 2/5\n",
            "1250/1250 [==============================] - 24s 19ms/step - loss: 0.1852 - accuracy: 0.9310 - val_loss: 0.2296 - val_accuracy: 0.9088\n",
            "Epoch 3/5\n",
            "1250/1250 [==============================] - 24s 19ms/step - loss: 0.1007 - accuracy: 0.9655 - val_loss: 0.2651 - val_accuracy: 0.9058\n",
            "Epoch 4/5\n",
            "1250/1250 [==============================] - 25s 20ms/step - loss: 0.0572 - accuracy: 0.9811 - val_loss: 0.3745 - val_accuracy: 0.8972\n",
            "Epoch 5/5\n",
            "1250/1250 [==============================] - 24s 19ms/step - loss: 0.0361 - accuracy: 0.9888 - val_loss: 0.3979 - val_accuracy: 0.8955\n"
          ]
        },
        {
          "output_type": "execute_result",
          "data": {
            "text/plain": [
              "<keras.callbacks.History at 0x7f4511958950>"
            ]
          },
          "metadata": {},
          "execution_count": 79
        }
      ]
    },
    {
      "cell_type": "markdown",
      "source": [
        "# Probamos Armar otra CNN"
      ],
      "metadata": {
        "id": "GmL4SuyA8-5i"
      }
    },
    {
      "cell_type": "code",
      "metadata": {
        "id": "AzXyAjAvxUmW",
        "colab": {
          "base_uri": "https://localhost:8080/"
        },
        "outputId": "014b6ec2-0fd4-4f2d-c8e3-733ddb04909d"
      },
      "source": [
        "from keras.layers import Embedding, Conv1D, MaxPooling1D, GlobalMaxPooling1D, Dropout, Dense\n",
        "\n",
        "model = Sequential()                                                              \n",
        "model.add(Embedding(nb_words, embed_dim, input_length= maxlen, trainable=True))   \n",
        "model.add(Conv1D(32, 5, activation='relu', padding='same'))      #filters, kernel_size,          \n",
        "model.add(MaxPooling1D(2)) #pool_size=2\n",
        "model.add(Conv1D(64, 5, activation='relu', padding='same'))\n",
        "model.add(MaxPooling1D(2))\n",
        "model.add(Conv1D(128, 5, activation='relu', padding='same'))\n",
        "model.add(MaxPooling1D(2))\n",
        "model.add(Flatten())\n",
        "model.add(Dropout(0.2))\n",
        "model.add(Dense(1, activation='sigmoid'))\n",
        "\n",
        "#print(model.summary())\n",
        "\n",
        "# MODIFIQUE HYPERPARAMS A GUSTO\n",
        "adam = optimizers.Adam(learning_rate=0.001, beta_1=0.9, beta_2=0.999, epsilon=1e-08, decay=0.0)\n",
        "\n",
        "model.compile(loss='binary_crossentropy', optimizer=adam, metrics=['accuracy'])\n",
        "\n",
        "model.fit(data,targets,batch_size=32,epochs=5,validation_split=0.2)"
      ],
      "execution_count": null,
      "outputs": [
        {
          "output_type": "stream",
          "name": "stdout",
          "text": [
            "Epoch 1/5\n",
            "1250/1250 [==============================] - 22s 17ms/step - loss: 0.3710 - accuracy: 0.8003 - val_loss: 0.2217 - val_accuracy: 0.9103\n",
            "Epoch 2/5\n",
            "1250/1250 [==============================] - 20s 16ms/step - loss: 0.1472 - accuracy: 0.9446 - val_loss: 0.2306 - val_accuracy: 0.9111\n",
            "Epoch 3/5\n",
            "1250/1250 [==============================] - 21s 16ms/step - loss: 0.0652 - accuracy: 0.9779 - val_loss: 0.2925 - val_accuracy: 0.9004\n",
            "Epoch 4/5\n",
            "1250/1250 [==============================] - 20s 16ms/step - loss: 0.0326 - accuracy: 0.9891 - val_loss: 0.4244 - val_accuracy: 0.8996\n",
            "Epoch 5/5\n",
            "1250/1250 [==============================] - 21s 17ms/step - loss: 0.0156 - accuracy: 0.9953 - val_loss: 0.4880 - val_accuracy: 0.9044\n"
          ]
        },
        {
          "output_type": "execute_result",
          "data": {
            "text/plain": [
              "<keras.callbacks.History at 0x7f451147f690>"
            ]
          },
          "metadata": {},
          "execution_count": 80
        }
      ]
    },
    {
      "cell_type": "markdown",
      "source": [
        "# Probamos Armar otra CNN\n",
        "Probamos la CNN sin Dropout"
      ],
      "metadata": {
        "id": "VkgyftlTGJYN"
      }
    },
    {
      "cell_type": "code",
      "source": [
        "model = Sequential()                                                              \n",
        "model.add(Embedding(nb_words, embed_dim, input_length= maxlen, trainable=True))   \n",
        "model.add(Conv1D(32, 5, activation='relu', padding='same'))      #filters, kernel_size,          \n",
        "model.add(MaxPooling1D(2)) #pool_size=2\n",
        "model.add(Conv1D(64, 5, activation='relu', padding='same'))\n",
        "model.add(MaxPooling1D(2))\n",
        "model.add(Conv1D(128, 5, activation='relu', padding='same'))\n",
        "model.add(MaxPooling1D(2))\n",
        "model.add(Flatten())\n",
        "#model.add(Dropout(0.2))\n",
        "model.add(Dense(1, activation='sigmoid'))\n",
        "\n",
        "#print(model.summary())\n",
        "\n",
        "# MODIFIQUE HYPERPARAMS A GUSTO\n",
        "adam = optimizers.Adam(learning_rate=0.001, beta_1=0.9, beta_2=0.999, epsilon=1e-08, decay=0.0)\n",
        "\n",
        "model.compile(loss='binary_crossentropy', optimizer=adam, metrics=['accuracy'])\n",
        "\n",
        "model.fit(data,targets,batch_size=32,epochs=5,validation_split=0.2)"
      ],
      "metadata": {
        "colab": {
          "base_uri": "https://localhost:8080/"
        },
        "id": "RYNw77p_iDSL",
        "outputId": "41a9e08c-1c05-43fa-8ace-d3f32ffc7522"
      },
      "execution_count": null,
      "outputs": [
        {
          "output_type": "stream",
          "name": "stdout",
          "text": [
            "Epoch 1/5\n",
            "1250/1250 [==============================] - 22s 17ms/step - loss: 0.3339 - accuracy: 0.8328 - val_loss: 0.2061 - val_accuracy: 0.9176\n",
            "Epoch 2/5\n",
            "1250/1250 [==============================] - 21s 17ms/step - loss: 0.1386 - accuracy: 0.9495 - val_loss: 0.2179 - val_accuracy: 0.9137\n",
            "Epoch 3/5\n",
            "1250/1250 [==============================] - 20s 16ms/step - loss: 0.0609 - accuracy: 0.9793 - val_loss: 0.3045 - val_accuracy: 0.9042\n",
            "Epoch 4/5\n",
            "1250/1250 [==============================] - 20s 16ms/step - loss: 0.0292 - accuracy: 0.9906 - val_loss: 0.5198 - val_accuracy: 0.8898\n",
            "Epoch 5/5\n",
            "1250/1250 [==============================] - 24s 19ms/step - loss: 0.0177 - accuracy: 0.9947 - val_loss: 0.5230 - val_accuracy: 0.9009\n"
          ]
        },
        {
          "output_type": "execute_result",
          "data": {
            "text/plain": [
              "<keras.callbacks.History at 0x7f4511168610>"
            ]
          },
          "metadata": {},
          "execution_count": 81
        }
      ]
    },
    {
      "cell_type": "code",
      "source": [
        ""
      ],
      "metadata": {
        "id": "vZUayoQmiDUy"
      },
      "execution_count": null,
      "outputs": []
    },
    {
      "cell_type": "code",
      "metadata": {
        "id": "EBZtuDJsM3mK"
      },
      "source": [
        ""
      ],
      "execution_count": null,
      "outputs": []
    },
    {
      "cell_type": "code",
      "source": [
        ""
      ],
      "metadata": {
        "id": "B4q6re_aDFjD"
      },
      "execution_count": null,
      "outputs": []
    },
    {
      "cell_type": "code",
      "source": [
        ""
      ],
      "metadata": {
        "id": "PqZpOrcIDFma"
      },
      "execution_count": null,
      "outputs": []
    }
  ]
}